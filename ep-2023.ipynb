{
 "cells": [
  {
   "cell_type": "markdown",
   "id": "b9e106e1",
   "metadata": {},
   "source": [
    "# Sujet n°01"
   ]
  },
  {
   "cell_type": "markdown",
   "id": "c9bd5ca3",
   "metadata": {},
   "source": [
    "## EXERCICE 1 (4 points)\n",
    "\n",
    "Programmer la fonction `verifie` qui prend en paramètre un tableau de valeurs numériques non vide et qui renvoie `True` si ce tableau est trié dans l’ordre croissant, `False` sinon.\n",
    "\n",
    "### Exemples :\n",
    "```python\n",
    ">>> verifie([0, 5, 8, 8, 9])\n",
    "True\n",
    ">>> verifie([8, 12, 4])\n",
    "False\n",
    ">>> verifie([-1, 4])\n",
    "True\n",
    ">>> verifie([5])\n",
    "True\n",
    "```"
   ]
  },
  {
   "cell_type": "markdown",
   "id": "194bd466",
   "metadata": {},
   "source": [
    "### Raisonnement inductif"
   ]
  },
  {
   "cell_type": "markdown",
   "id": "5920b1be",
   "metadata": {},
   "source": [
    "#### Observation\n",
    "On essaie de mettre en place à partir d'un exemple une procédure pour atteindre le résultat.\n",
    "\n",
    "+ Partons de l'exemple `[0, 5, 8, 8, 9]`.\n",
    "+ On considère le premier élément. Rien à faire.\n",
    "+ On considère le deuxième élément. On compare avec le précédent. Si il est plus petit on retourne `False`.\n",
    "+ On considère le troisième élément. On compare avec le précédent. Si il est plus petit on retourne `False`.\n",
    "+ On considère le quatrième élément. On compare avec le précédent. Si il est plus petit on retourne `False`.\n",
    "+ On considère le cinquième élément. On compare avec le précédent. Si il est plus petit on retourne `False`.\n",
    "+ On retourne `True`"
   ]
  },
  {
   "cell_type": "markdown",
   "id": "8145bf8b",
   "metadata": {},
   "source": [
    "#### Généralisation\n",
    "On construit un algorithme qui ne dépend pas de 'un exemple précis.\n",
    "\n",
    "Dans l'exemple précédent, \n",
    "+ on a une phase d'initialisation\n",
    "+ On a une itération sur les éléments de la liste\n",
    "+ une phase finale après toutes les itérations"
   ]
  },
  {
   "cell_type": "markdown",
   "id": "bab89702",
   "metadata": {},
   "source": [
    "#### Programmation\n",
    "On transcrit l'algorithme dans un langage de programmation donné: ici Python.\n",
    "\n",
    "\n",
    "+ On introduit un index `i` pour parcourir le tableau.\n",
    "+ L'index est initialisé à 1 pour ne pas traiter le cas du premmier élément de la liste (index 0).\n",
    "+ On boucle sur l'index en comparant chaque élément avec son précédent pour savoir si la liste n'est pas ordonnée dans l'ordre croissant\n",
    "+ À la sortie de la boucle, on sait que tous les éléments sont dans l'ordre croissant, donc on retourne `True`."
   ]
  },
  {
   "cell_type": "code",
   "execution_count": 218,
   "id": "c06d4952",
   "metadata": {},
   "outputs": [],
   "source": [
    "def verifie(tab):\n",
    "    i = 1\n",
    "    while i < len(tab):\n",
    "        if tab[i-1] > tab[i]:\n",
    "            return False\n",
    "        i+=1\n",
    "        \n",
    "    return True"
   ]
  },
  {
   "cell_type": "markdown",
   "id": "4be4a429",
   "metadata": {},
   "source": [
    "### Tests"
   ]
  },
  {
   "cell_type": "code",
   "execution_count": 219,
   "id": "be953f8d",
   "metadata": {},
   "outputs": [
    {
     "data": {
      "text/plain": [
       "True"
      ]
     },
     "execution_count": 219,
     "metadata": {},
     "output_type": "execute_result"
    }
   ],
   "source": [
    "verifie([0, 5, 8, 8, 9])"
   ]
  },
  {
   "cell_type": "code",
   "execution_count": 220,
   "id": "432bc4f5",
   "metadata": {},
   "outputs": [
    {
     "data": {
      "text/plain": [
       "False"
      ]
     },
     "execution_count": 220,
     "metadata": {},
     "output_type": "execute_result"
    }
   ],
   "source": [
    "verifie([8, 12, 4])"
   ]
  },
  {
   "cell_type": "code",
   "execution_count": 221,
   "id": "b2ac9ae3",
   "metadata": {},
   "outputs": [
    {
     "data": {
      "text/plain": [
       "True"
      ]
     },
     "execution_count": 221,
     "metadata": {},
     "output_type": "execute_result"
    }
   ],
   "source": [
    "verifie([-1, 4])"
   ]
  },
  {
   "cell_type": "code",
   "execution_count": 222,
   "id": "cc97bdfb",
   "metadata": {},
   "outputs": [
    {
     "data": {
      "text/plain": [
       "True"
      ]
     },
     "execution_count": 222,
     "metadata": {},
     "output_type": "execute_result"
    }
   ],
   "source": [
    "verifie([5])"
   ]
  },
  {
   "cell_type": "markdown",
   "id": "2cdf0442",
   "metadata": {},
   "source": [
    "#### Remarque\n",
    "L'algorithme peut être programmé avec une boucle `for`:"
   ]
  },
  {
   "cell_type": "code",
   "execution_count": 223,
   "id": "13dab7eb",
   "metadata": {},
   "outputs": [],
   "source": [
    "def verifie(tab):\n",
    "    for i in range(1,len(tab)):\n",
    "        if tab[i-1] > tab[i]:\n",
    "            return False\n",
    "        \n",
    "    return True"
   ]
  },
  {
   "cell_type": "markdown",
   "id": "af1730dc",
   "metadata": {},
   "source": [
    "## EXERCICE 2 (4 points)\n",
    "\n",
    "Les résultats d'un vote ayant trois issues possibles `'A'`, `'B'` et `'C'` sont stockés dans un tableau.\n",
    "\n",
    "### Exemple :\n",
    "```python\n",
    "urne = ['A', 'A', 'A', 'B', 'C', 'B', 'C', 'B', 'C', 'B']\n",
    "```\n",
    "La fonction `depouille` doit permettre de compter le nombre de votes exprimés pour chacune des issues. Elle prend en paramètre un tableau et renvoie le résultat dans un dictionnaire dont les clés sont les noms des issues et les valeurs le nombre de votes en leur faveur.\n",
    "\n",
    "La fonction `vainqueur` doit désigner le nom du ou des gagnants. Elle prend en paramètre un dictionnaire dont la structure est celle du dictionnaire renvoyé par la fonction `depouille` et renvoie un tableau. Ce tableau peut donc contenir plusieurs éléments s’il y a des ex-aequo.\n",
    "\n",
    "Compléter les fonctions `depouille` et `vainqueur` fournies à la page suivante pour qu’elles renvoient les résultats attendus.\n",
    "```python\n",
    "def depouille(urne):\n",
    "    resultat = ...\n",
    "    for bulletin in urne:\n",
    "        if ...:\n",
    "            resultat[bulletin] = resultat[bulletin] + 1\n",
    "        else:\n",
    "        ...\n",
    "    return resultat\n",
    "```\n",
    "\n",
    "```python\n",
    "def vainqueur(election):\n",
    "    vainqueur = ''\n",
    "    nmax = 0\n",
    "    for candidat in election:\n",
    "        if ... > ... :\n",
    "            nmax = ...\n",
    "            vainqueur = candidat\n",
    "    liste_finale = [nom for nom in election if election[nom] == ...]\n",
    "    return ...\n",
    " ```\n",
    "\n",
    "### Exemples d’utilisation :\n",
    "```python\n",
    ">>> election = depouille(urne)\n",
    ">>> election\n",
    "{'B': 4, 'A': 3, 'C': 3}\n",
    ">>> vainqueur(election)\n",
    "['B']\n",
    "```"
   ]
  },
  {
   "cell_type": "markdown",
   "id": "071d04a9",
   "metadata": {},
   "source": [
    "### Solution"
   ]
  },
  {
   "cell_type": "code",
   "execution_count": 224,
   "id": "718a3118",
   "metadata": {},
   "outputs": [],
   "source": [
    "def depouille(urne):\n",
    "    resultat = dict()\n",
    "    for bulletin in urne:\n",
    "        if bulletin in resultat:\n",
    "            resultat[bulletin] = resultat[bulletin] + 1\n",
    "        else:\n",
    "            resultat[bulletin] = 1\n",
    "    return resultat\n",
    "\n",
    "def vainqueur(election):\n",
    "    vainqueur = ''\n",
    "    nmax = 0\n",
    "    for candidat in election:\n",
    "        if election[candidat]  > nmax :\n",
    "            nmax = election[candidat]\n",
    "            vainqueur = candidat\n",
    "    liste_finale = [nom for nom in election if election[nom] == nmax]\n",
    "    return liste_finale"
   ]
  },
  {
   "cell_type": "markdown",
   "id": "125f7198",
   "metadata": {},
   "source": [
    "### Test"
   ]
  },
  {
   "cell_type": "code",
   "execution_count": 225,
   "id": "6c4c8099",
   "metadata": {},
   "outputs": [
    {
     "data": {
      "text/plain": [
       "{'A': 3, 'B': 4, 'C': 3}"
      ]
     },
     "execution_count": 225,
     "metadata": {},
     "output_type": "execute_result"
    }
   ],
   "source": [
    "urne = ['A', 'A', 'A', 'B', 'C', 'B', 'C', 'B', 'C', 'B']\n",
    "election = depouille(urne)\n",
    "election"
   ]
  },
  {
   "cell_type": "code",
   "execution_count": 226,
   "id": "f98a64f6",
   "metadata": {},
   "outputs": [
    {
     "data": {
      "text/plain": [
       "['B']"
      ]
     },
     "execution_count": 226,
     "metadata": {},
     "output_type": "execute_result"
    }
   ],
   "source": [
    "vainqueur(election)"
   ]
  },
  {
   "cell_type": "markdown",
   "id": "ae03c819",
   "metadata": {},
   "source": [
    "#### Remarque\n",
    "Les lignes 11 et 16 de la fonction `vainqueur` ne servent à rien. Étonnant !"
   ]
  },
  {
   "cell_type": "markdown",
   "id": "6a1e1fae",
   "metadata": {},
   "source": [
    "---"
   ]
  },
  {
   "cell_type": "markdown",
   "id": "b6c4c557",
   "metadata": {},
   "source": [
    "# Sujet n°02"
   ]
  },
  {
   "cell_type": "markdown",
   "id": "5f7020a0",
   "metadata": {},
   "source": [
    "## EXERCICE 1 (4 points)\n",
    "\n",
    "Écrire une fonction `indices_maxi` qui prend en paramètre une liste `tab`, non vide, de nombres entiers et renvoie un couple donnant d’une part le plus grand élément de cette liste et d’autre part la liste des indices de la liste `tab` où apparaît ce plus grand élément.\n",
    "\n",
    "### Exemples :\n",
    "```python\n",
    ">>> indices_maxi([1, 5, 6, 9, 1, 2, 3, 7, 9, 8])\n",
    "(9, [3, 8])\n",
    ">>> indices_maxi([7])\n",
    "(7, [0])\n",
    "```"
   ]
  },
  {
   "cell_type": "markdown",
   "id": "f79b24d5",
   "metadata": {},
   "source": [
    "### Raisonnement inductif"
   ]
  },
  {
   "cell_type": "markdown",
   "id": "72f97610",
   "metadata": {},
   "source": [
    "#### Observation\n",
    "\n",
    "+ On considère la liste `tab = [1, 5, 6, 9, 1, 2, 3, 7, 9, 8]`.\n",
    "+ On commence par rechercher le maximum de la liste `tab`, ici 9\n",
    "+ On recherche les index où apparaissent ce maximum 9 : `[3, 8]`\n",
    "+ On retourne `(9, [3,8])`\n",
    "\n",
    "Pour rechercher le maximum :\n",
    "+ 1 est le premier élément, on retient la valeur.\n",
    "+ 5 est le deuxième elément, il est plus grand que 1. On retient 5.\n",
    "+ 6 est le troisième elément, il est plus grand que 5. On retient 6.\n",
    "+ 9 est le quatrième elément, il est plus grand que 6. On retient 9.\n",
    "+ 1 est le cinquième elément, il n'est pas plus grand que 9.\n",
    "+ 2 est le sixième elément, il n'est pas plus grand que 9.\n",
    "+ 3 est le septième elément, il n'est pas plus grand que 9.\n",
    "+ 9 est le huitième elément, il n'est pas plus grand que 9.\n",
    "+ 8 est le neuvième elément, il n'est pas plus grand que 9. \n",
    "+ La valeur retenue est le maximum\n",
    "\n",
    "Pour rechercher les index du maximum :\n",
    "+ 1 n'est pas le max.\n",
    "+ 5 n'est pas le max.\n",
    "+ 6 n'est pas le max.\n",
    "+ 9 est le max. On retient son index dans une liste : `[3]`\n",
    "+ 1 n'est pas le max.\n",
    "+ 2 n'est pas le max.\n",
    "+ 3 n'est pas le max.\n",
    "+ 7 n'est pas le max.\n",
    "+ 9 est le max. On retient son index dans la liste : `[3, 8]`\n",
    "+ 8 n'est pas le max."
   ]
  },
  {
   "cell_type": "markdown",
   "id": "6cf4e0dd",
   "metadata": {},
   "source": [
    "#### Généralisation\n",
    "\n",
    "On constate que pour la recherche du maximum :\n",
    "+ On a une phase d'initialisation où on retient le premier élément de la liste\n",
    "+ On itère sur les éléments de la liste.\n",
    "+ À chaque itéation, on retient l'élément le plus grand entre la dernière valeur retenue et l'élément.\n",
    "+ À la sortie de l'itération (boucle), la dernière valeur retenue est le maximum de la liste.\n",
    "\n",
    "On constate que pour la recherche des index du maximum:\n",
    "+ On itère sur les éléments de la liste.\n",
    "+ Si l'élément de la liste est égal au max, on retient dans une liste son index."
   ]
  },
  {
   "cell_type": "markdown",
   "id": "6e988970",
   "metadata": {},
   "source": [
    "#### Programmation\n",
    "\n",
    "Afin d'éviter de trop charger la fonction `indices-maxi`, j'ai décidé de déporter la calcul du maximum dans une autre fonction nommée `maximum`."
   ]
  },
  {
   "cell_type": "code",
   "execution_count": 227,
   "id": "ee5b2bda",
   "metadata": {},
   "outputs": [],
   "source": [
    "def maximum(tab):\n",
    "    maxi = tab[0]\n",
    "    \n",
    "    i = 1\n",
    "    while i < len(tab):\n",
    "        if tab[i] > maxi:\n",
    "            maxi = tab[i]\n",
    "        i+=1\n",
    "            \n",
    "    return maxi\n",
    "\n",
    "def indices_maxi(tab):\n",
    "    maxi = maximum(tab)\n",
    "    \n",
    "    liste_indices = []\n",
    "    \n",
    "    for indice, element in enumerate(tab):\n",
    "        if element == maxi:\n",
    "            liste_indices.append(indice)\n",
    "            \n",
    "    return (maxi,liste_indices)"
   ]
  },
  {
   "cell_type": "markdown",
   "id": "e285dda8",
   "metadata": {},
   "source": [
    "### Test"
   ]
  },
  {
   "cell_type": "code",
   "execution_count": 228,
   "id": "9fc5b4be",
   "metadata": {},
   "outputs": [
    {
     "data": {
      "text/plain": [
       "(9, [3, 8])"
      ]
     },
     "execution_count": 228,
     "metadata": {},
     "output_type": "execute_result"
    }
   ],
   "source": [
    "indices_maxi([1, 5, 6, 9, 1, 2, 3, 7, 9, 8])"
   ]
  },
  {
   "cell_type": "code",
   "execution_count": 229,
   "id": "729a782b",
   "metadata": {},
   "outputs": [
    {
     "data": {
      "text/plain": [
       "(7, [0])"
      ]
     },
     "execution_count": 229,
     "metadata": {},
     "output_type": "execute_result"
    }
   ],
   "source": [
    "indices_maxi([7])"
   ]
  },
  {
   "cell_type": "markdown",
   "id": "6f0c13f0",
   "metadata": {},
   "source": [
    "#### Remarque\n",
    "+ La boucle `for` de la fonction `indice_maxi` peut être remplacée par une boucle `while`.\n",
    "+ Il faut savoir que Python dispose d'une fonction `max` qui extrait le maximum d'une liste de données ordonnables.\n",
    "\n",
    "Le code proposé précédemment peut être remplacé par le suivant sans définir la fonction `max` et en utilisant une boucle `while`."
   ]
  },
  {
   "cell_type": "code",
   "execution_count": 230,
   "id": "1afcc0bd",
   "metadata": {},
   "outputs": [],
   "source": [
    "def indices_maxi(tab):\n",
    "    maxi = max(tab)\n",
    "    \n",
    "    liste_indices = []\n",
    "    \n",
    "    indice = 0\n",
    "    while indice < len(tab):\n",
    "        if tab[indice] == maxi:\n",
    "            liste_indices.append(indice)\n",
    "        indice += 1\n",
    "            \n",
    "    return (maxi,liste_indices)"
   ]
  },
  {
   "cell_type": "markdown",
   "id": "1fc14677",
   "metadata": {},
   "source": [
    "### Tests"
   ]
  },
  {
   "cell_type": "code",
   "execution_count": 231,
   "id": "0c4e7a43",
   "metadata": {},
   "outputs": [
    {
     "data": {
      "text/plain": [
       "(9, [3, 8])"
      ]
     },
     "execution_count": 231,
     "metadata": {},
     "output_type": "execute_result"
    }
   ],
   "source": [
    "indices_maxi([1, 5, 6, 9, 1, 2, 3, 7, 9, 8])"
   ]
  },
  {
   "cell_type": "code",
   "execution_count": 232,
   "id": "2dfeb6ed",
   "metadata": {},
   "outputs": [
    {
     "data": {
      "text/plain": [
       "(7, [0])"
      ]
     },
     "execution_count": 232,
     "metadata": {},
     "output_type": "execute_result"
    }
   ],
   "source": [
    "indices_maxi([7])"
   ]
  },
  {
   "cell_type": "markdown",
   "id": "6ce0a856",
   "metadata": {},
   "source": [
    "#### Remarque\n",
    "Les algorithmes proposés se décomposent en deux grandes étapes:\n",
    "\n",
    "1. Trouver le maximimum.\n",
    "2. Puis trouver les indices du maximuum.\n",
    "\n",
    "Il est possible de faire les deux en même temps en remmettant à zéro la liste des index du maximum dès lors que le maximum change (quand la variable `maxi` change de valeur) :"
   ]
  },
  {
   "cell_type": "code",
   "execution_count": 233,
   "id": "166c06ab",
   "metadata": {},
   "outputs": [],
   "source": [
    "def indices_maxi(tab):\n",
    "    maxi  = tab[0]\n",
    "    indices = [0]\n",
    "    \n",
    "    i = 1\n",
    "    while i < len(tab):\n",
    "        if tab[i] > maxi:\n",
    "            maxi = tab[i]\n",
    "            indices = [i]\n",
    "        elif tab[i] == maxi:\n",
    "            indices.append(i)\n",
    "        i+=1\n",
    "        \n",
    "    return (maxi,indices)"
   ]
  },
  {
   "cell_type": "markdown",
   "id": "0104d48d",
   "metadata": {},
   "source": [
    "#### Tests"
   ]
  },
  {
   "cell_type": "code",
   "execution_count": 234,
   "id": "5d376c63",
   "metadata": {},
   "outputs": [
    {
     "data": {
      "text/plain": [
       "(9, [3, 8])"
      ]
     },
     "execution_count": 234,
     "metadata": {},
     "output_type": "execute_result"
    }
   ],
   "source": [
    "indices_maxi([1, 5, 6, 9, 1, 2, 3, 7, 9, 8])"
   ]
  },
  {
   "cell_type": "code",
   "execution_count": 235,
   "id": "88f8a684",
   "metadata": {},
   "outputs": [
    {
     "data": {
      "text/plain": [
       "(7, [0])"
      ]
     },
     "execution_count": 235,
     "metadata": {},
     "output_type": "execute_result"
    }
   ],
   "source": [
    "indices_maxi([7])"
   ]
  },
  {
   "cell_type": "markdown",
   "id": "22fc01e9",
   "metadata": {},
   "source": [
    "## EXERCICE 2 (4 points)\n",
    "Cet exercice utilise des piles qui seront représentées en Python par des listes (de type\n",
    "`list`).\n",
    "\n",
    "On rappelle que l’expression `liste_1 = list(liste)` fait une copie de `liste` indépendante de `liste`, que l’expression `x = liste.pop()` enlève le sommet de la pile `liste` et le place dans la variable `x` et, enfin, que l’expression `liste.append(v)` place la valeur `v` au sommet de la pile `liste`.\n",
    "\n",
    "Compléter le code Python de la fonction positif ci-dessous qui prend une pile `liste` de nombres entiers en paramètre et qui renvoie la pile des entiers positifs dans le même ordre, sans modifier la variable `liste`.\n",
    "```python\n",
    "def positif(pile):\n",
    "    pile_1 = ...(pile)\n",
    "    pile_2 = ...\n",
    "    while pile_1 != []:\n",
    "        x = ...\n",
    "        if ... >= 0:\n",
    "            pile_2.append(...)\n",
    "    while pile_2 != ...:\n",
    "        x = pile_2.pop()\n",
    "        ...\n",
    "return pile_1\n",
    "```\n",
    "### Exemples :\n",
    "```python\n",
    ">>> positif([-1, 0, 5, -3, 4, -6, 10, 9, -8])\n",
    "[0, 5, 4, 10, 9]\n",
    ">>> positif([-2])\n",
    "[]\n",
    "```"
   ]
  },
  {
   "cell_type": "markdown",
   "id": "41db9e66",
   "metadata": {},
   "source": [
    "### Solution"
   ]
  },
  {
   "cell_type": "code",
   "execution_count": 236,
   "id": "6897a258",
   "metadata": {},
   "outputs": [],
   "source": [
    "def positif(pile):\n",
    "    pile_1 = list(pile)\n",
    "    pile_2 = list()\n",
    "    while pile_1 != []:\n",
    "        x = pile_1.pop()\n",
    "        if x >= 0:\n",
    "            pile_2.append(x)\n",
    "    while pile_2 != []:\n",
    "        x = pile_2.pop()\n",
    "        pile_1.append(x)\n",
    "    return pile_1"
   ]
  },
  {
   "cell_type": "markdown",
   "id": "0869f006",
   "metadata": {},
   "source": [
    "### Test"
   ]
  },
  {
   "cell_type": "code",
   "execution_count": 237,
   "id": "14011943",
   "metadata": {},
   "outputs": [
    {
     "data": {
      "text/plain": [
       "[0, 5, 4, 10, 9]"
      ]
     },
     "execution_count": 237,
     "metadata": {},
     "output_type": "execute_result"
    }
   ],
   "source": [
    "positif([-1, 0, 5, -3, 4, -6, 10, 9, -8])"
   ]
  },
  {
   "cell_type": "markdown",
   "id": "8c433a3d",
   "metadata": {},
   "source": [
    "---"
   ]
  },
  {
   "cell_type": "markdown",
   "id": "0a8ca2f0",
   "metadata": {},
   "source": [
    "# Sujet n°03"
   ]
  },
  {
   "cell_type": "markdown",
   "id": "8cd534bb",
   "metadata": {},
   "source": [
    "## EXERCICE 1 (4 points)\n",
    "\n",
    "Dans cet exercice, les nombres sont des entiers ou des flottants.\n",
    "\n",
    "Écrire une fonction moyenne renvoyant la moyenne pondérée d’une liste non vide, passée en paramètre, de tuples à deux éléments de la forme `(valeur, coefficient)` où `valeur` et `coefficient` sont des nombres positifs ou nuls.\n",
    "\n",
    "Si la somme des coefficients est nulle, la fonction renvoie ̀`None`, si la somme des coefficients est non nulle, la fonction renvoie, sous forme de flottant, la moyenne des valeurs affectées de leur coefficient.\n",
    "\n",
    "### Exemples :\n",
    "```python\n",
    ">>> moyenne([(8, 2), (12, 0), (13.5, 1), (5, 0.5)])\n",
    "9.142857142857142\n",
    ">>> moyenne([(3, 0), (5, 0)])\n",
    "None\n",
    "```\n",
    "\n",
    "Dans le premier exemple la moyenne est calculée par la formule :\n",
    "$$\\dfrac{8 × 2 + 12 × 0 + 13,5 × 1 + 5 × 0,5}{2 + 0 + 1 + 0,5}$$"
   ]
  },
  {
   "cell_type": "markdown",
   "id": "143855f4",
   "metadata": {},
   "source": [
    "### Raisonnement inductif"
   ]
  },
  {
   "cell_type": "markdown",
   "id": "1314f0b5",
   "metadata": {},
   "source": [
    "#### Observation\n",
    "\n",
    "+ Le numérateur est la somme des produits `valeur` par `coefficient`.\n",
    "+ Le dénominateur est la somme des coefficients.\n",
    "\n",
    "Partons de l'exemple `moyenne([(8, 2), (12, 0), (13.5, 1), (5, 0.5)])`:\n",
    "+ On récupère le couple `(8,2)` de la liste. On effectue le produit $8\\times2$ et on l'ajoute au numérateur. on ajoute le coefficient $2$ au dénominateur.\n",
    "+ On récupère le couple `(12,0)` de la liste. On effectue le produit $12\\times0$ et on l'ajoute au numérateur. on ajoute le coefficient $2$ au dénominateur\n",
    "+ On récupère le couple `(13.5,1)` de la liste. On effectue le produit $13.5\\times1$ et on l'ajoute au numérateur. on ajoute le coefficient $1$ au dénominateur\n",
    "+ On récupère le couple `(5,0.5)` de la liste. On effectue le produit $5\\times0.5$ et on l'ajoute au numérateur. on ajoute le coefficient $0.5$ au dénominateur\n",
    "+ On divise le numérateur par le dénominateur pour obtenir la moyenne si le coefficient est non nul, sinon on retourne `None`."
   ]
  },
  {
   "cell_type": "markdown",
   "id": "8d3a9bee",
   "metadata": {},
   "source": [
    "#### Généralisation\n",
    "\n",
    "+ On constate qu'on a une itération (répétition d'opérations semblables) sur les éléments de la liste fournie en paramètre\n",
    "+ À la fin on retourne la rapport du numératueur sur le dénominteur si le dénominateur n'est pas nul, sinon on  retourne `None`."
   ]
  },
  {
   "cell_type": "markdown",
   "id": "d595813d",
   "metadata": {},
   "source": [
    "#### Programmation"
   ]
  },
  {
   "cell_type": "code",
   "execution_count": 238,
   "id": "f6ca1558",
   "metadata": {},
   "outputs": [],
   "source": [
    "def moyenne(tab):\n",
    "    numerateur = denominateur = 0  # Il s'agit d'une affectation multiple\n",
    "    \n",
    "    for note, coefficient in tab:\n",
    "        numerateur += note * coefficient\n",
    "        denominateur += coefficient\n",
    "        \n",
    "    if coefficient == 0 :\n",
    "        return None\n",
    "    else:\n",
    "        return numerateur / denominateur"
   ]
  },
  {
   "cell_type": "markdown",
   "id": "07552d66",
   "metadata": {},
   "source": [
    "### Tests"
   ]
  },
  {
   "cell_type": "code",
   "execution_count": 239,
   "id": "f6e9ce55",
   "metadata": {},
   "outputs": [
    {
     "data": {
      "text/plain": [
       "9.142857142857142"
      ]
     },
     "execution_count": 239,
     "metadata": {},
     "output_type": "execute_result"
    }
   ],
   "source": [
    "moyenne([(8, 2), (12, 0), (13.5, 1), (5, 0.5)])"
   ]
  },
  {
   "cell_type": "code",
   "execution_count": 240,
   "id": "f0d518ae",
   "metadata": {},
   "outputs": [
    {
     "name": "stdout",
     "output_type": "stream",
     "text": [
      "None\n"
     ]
    }
   ],
   "source": [
    "print(moyenne([(3, 0), (5, 0)]))"
   ]
  },
  {
   "cell_type": "markdown",
   "id": "9c36cba3",
   "metadata": {},
   "source": [
    "### Remarque\n",
    "On peut remplacer la boucle `for` par une boucle `while` sur les index de `tab` :"
   ]
  },
  {
   "cell_type": "code",
   "execution_count": 241,
   "id": "94b3ebb2",
   "metadata": {},
   "outputs": [],
   "source": [
    "def moyenne(tab):\n",
    "    numerateur = denominateur = 0  # Il s'agit d'une affectation multiple\n",
    "    \n",
    "    i = 0\n",
    "    while i < len(tab):\n",
    "        note, coefficient =  tab[i]\n",
    "        numerateur += note * coefficient\n",
    "        denominateur += coefficient\n",
    "        i += 1\n",
    "        \n",
    "    if coefficient == 0 :\n",
    "        return None\n",
    "    else:\n",
    "        return numerateur / denominateur"
   ]
  },
  {
   "cell_type": "markdown",
   "id": "b459429c",
   "metadata": {},
   "source": [
    "### Tests"
   ]
  },
  {
   "cell_type": "code",
   "execution_count": 242,
   "id": "9fdfcbe8",
   "metadata": {},
   "outputs": [
    {
     "data": {
      "text/plain": [
       "9.142857142857142"
      ]
     },
     "execution_count": 242,
     "metadata": {},
     "output_type": "execute_result"
    }
   ],
   "source": [
    "moyenne([(8, 2), (12, 0), (13.5, 1), (5, 0.5)])"
   ]
  },
  {
   "cell_type": "code",
   "execution_count": 243,
   "id": "dfee3eac",
   "metadata": {},
   "outputs": [
    {
     "name": "stdout",
     "output_type": "stream",
     "text": [
      "None\n"
     ]
    }
   ],
   "source": [
    "print(moyenne([(3, 0), (5, 0)]))"
   ]
  },
  {
   "cell_type": "markdown",
   "id": "bbf2e3f7",
   "metadata": {},
   "source": [
    "## EXERCICE 2 (4 points)\n",
    "\n",
    "On travaille sur des dessins en noir et blanc obtenus à partir de pixels noirs et blancs. \n",
    "    \n",
    "La figure « cœur » ci-dessous va servir d’exemple.\n",
    "![Figure «coeur»](23-NSI-03-000.png)\n",
    "On la représente par une grille de nombres, c’est-à-dire par une liste composée de sous-listes de mêmes longueurs.\n",
    "\n",
    "Chaque sous-liste représentera donc une ligne du dessin.\n",
    "\n",
    "Dans le code ci-dessous, la fonction `affiche` permet d’afficher le dessin. Les pixels noirs\n",
    "(1 dans la grille) seront représentés par le caractère `\" *\"` et les blancs (0 dans la grille)\n",
    "par deux espaces.\n",
    "\n",
    "La fonction `zoomListe` prend en argument une liste `liste_depart` et un entier `k`. Elle renvoie une liste où chaque élément de `liste_depart` est dupliqué `k` fois.\n",
    "\n",
    "La fonction `zoomDessin` prend en argument la grille dessin et renvoie une grille où toutes les lignes de dessin sont zoomées `k` fois (c’est-à-dire, on applique à chaque ligne la fonction `zoomListe` avec comme second paramètre `k` et répétées `k` fois.\n",
    "\n",
    "Compléter le code ci-dessous :"
   ]
  },
  {
   "cell_type": "markdown",
   "id": "7876881f",
   "metadata": {},
   "source": [
    "```python\n",
    "coeur = [[0, 0, 0, 0, 0, 0, 0, 0, 0, 0, 0, 0, 0],\n",
    "         [0, 0, 0, 1, 1, 0, 0, 0, 1, 1, 0, 0, 0],\n",
    "         [0, 0, 1, 0, 0, 1, 0, 1, 0, 0, 1, 0, 0],\n",
    "         [0, 1, 0, 0, 0, 0, 1, 0, 0, 0, 0, 1, 0],\n",
    "         [0, 1, 0, 0, 0, 0, 0, 0, 0, 0, 0, 1, 0],\n",
    "         [0, 1, 0, 0, 0, 0, 0, 0, 0, 0, 0, 1, 0],\n",
    "         [0, 0, 1, 0, 0, 0, 0, 0, 0, 0, 1, 0, 0],\n",
    "         [0, 0, 0, 1, 0, 0, 0, 0, 0, 1, 0, 0, 0],\n",
    "         [0, 0, 0, 0, 1, 0, 0, 0, 1, 0, 0, 0, 0],\n",
    "         [0, 0, 0, 0, 0, 1, 0, 1, 0, 0, 0, 0, 0],\n",
    "         [0, 0, 0, 0, 0, 0, 1, 0, 0, 0, 0, 0, 0],\n",
    "         [0, 0, 0, 0, 0, 0, 0, 0, 0, 0, 0, 0, 0]]\n",
    "\n",
    "def affiche(dessin):\n",
    "    ''' affichage d'une grille : les 1 sont représentés par\n",
    "        des \" *\" , les 0 par deux espaces \"  \".\n",
    "        La valeur \"\" donnée au paramètre end permet de ne pas avoir\n",
    "        de saut de ligne.'''\n",
    "    for ligne in dessin:\n",
    "        for col in ligne:\n",
    "            if col == 1:\n",
    "                print(\" *\", end= \"\")\n",
    "            else: \n",
    "                print(\"  \", end= \"\")\n",
    "        print()\n",
    "\n",
    "def zoomListe(liste_depart, k):\n",
    "    '''renvoie une liste contenant k fois chaque\n",
    "       élément de liste_depart'''\n",
    "    liste_zoom = ...\n",
    "    for elt in ... :\n",
    "        for i in range(k):\n",
    "            ...\n",
    "    return liste_zoom\n",
    "\n",
    "def zoomDessin(grille, k):\n",
    "    '''renvoie une grille où les lignes sont zoomées k fois\n",
    "       ET répétées k fois'''\n",
    "    grille_zoom = []\n",
    "    for elt in grille:\n",
    "        liste_zoom = ...\n",
    "            for i in range(k):\n",
    "                ... .append(...)\n",
    "    return grille_zoom\n",
    "```"
   ]
  },
  {
   "cell_type": "markdown",
   "id": "12f29399",
   "metadata": {},
   "source": [
    "Résultats à obtenir :\n",
    "```python    \n",
    ">>> affiche(coeur)\n",
    "```\n",
    "![Figure «coeur»](23-NSI-03-001.png)\n",
    "```python\n",
    ">>> affiche(zoomDessin(coeur, 3))\n",
    "```\n",
    "![Figure «coeur» zoomé trois fois](23-NSI-03-002.png)"
   ]
  },
  {
   "cell_type": "markdown",
   "id": "56e13b20",
   "metadata": {},
   "source": [
    "### Solution"
   ]
  },
  {
   "cell_type": "code",
   "execution_count": 244,
   "id": "f067b346",
   "metadata": {},
   "outputs": [],
   "source": [
    "coeur = [[0, 0, 0, 0, 0, 0, 0, 0, 0, 0, 0, 0, 0],\n",
    "         [0, 0, 0, 1, 1, 0, 0, 0, 1, 1, 0, 0, 0],\n",
    "         [0, 0, 1, 0, 0, 1, 0, 1, 0, 0, 1, 0, 0],\n",
    "         [0, 1, 0, 0, 0, 0, 1, 0, 0, 0, 0, 1, 0],\n",
    "         [0, 1, 0, 0, 0, 0, 0, 0, 0, 0, 0, 1, 0],\n",
    "         [0, 1, 0, 0, 0, 0, 0, 0, 0, 0, 0, 1, 0],\n",
    "         [0, 0, 1, 0, 0, 0, 0, 0, 0, 0, 1, 0, 0],\n",
    "         [0, 0, 0, 1, 0, 0, 0, 0, 0, 1, 0, 0, 0],\n",
    "         [0, 0, 0, 0, 1, 0, 0, 0, 1, 0, 0, 0, 0],\n",
    "         [0, 0, 0, 0, 0, 1, 0, 1, 0, 0, 0, 0, 0],\n",
    "         [0, 0, 0, 0, 0, 0, 1, 0, 0, 0, 0, 0, 0],\n",
    "         [0, 0, 0, 0, 0, 0, 0, 0, 0, 0, 0, 0, 0]]\n",
    "\n",
    "def affiche(dessin):\n",
    "    ''' affichage d'une grille : les 1 sont représentés par\n",
    "        des \" *\" , les 0 par deux espaces \"  \".\n",
    "        La valeur \"\" donnée au paramètre end permet de ne pas avoir\n",
    "        de saut de ligne.'''\n",
    "    for ligne in dessin:\n",
    "        for col in ligne:\n",
    "            if col == 1:\n",
    "                print(\" *\", end= \"\")\n",
    "            else: \n",
    "                print(\"  \", end= \"\")\n",
    "        print()\n",
    "\n",
    "def zoomListe(liste_depart, k):\n",
    "    '''renvoie une liste contenant k fois chaque\n",
    "       élément de liste_depart'''\n",
    "    liste_zoom = []\n",
    "    for elt in liste_depart :\n",
    "        for i in range(k):\n",
    "            liste_zoom.append(elt)\n",
    "    return liste_zoom\n",
    "\n",
    "def zoomDessin(grille, k):\n",
    "    '''renvoie une grille où les lignes sont zoomées k fois\n",
    "       ET répétées k fois'''\n",
    "    grille_zoom = []\n",
    "    for elt in grille:\n",
    "        liste_zoom = zoomListe(elt,k)\n",
    "        for i in range(k):\n",
    "            grille_zoom.append(liste_zoom)\n",
    "    return grille_zoom"
   ]
  },
  {
   "cell_type": "markdown",
   "id": "6fa87109",
   "metadata": {},
   "source": [
    "### Tests"
   ]
  },
  {
   "cell_type": "code",
   "execution_count": 245,
   "id": "24187978",
   "metadata": {},
   "outputs": [
    {
     "name": "stdout",
     "output_type": "stream",
     "text": [
      "                          \n",
      "       * *       * *      \n",
      "     *     *   *     *    \n",
      "   *         *         *  \n",
      "   *                   *  \n",
      "   *                   *  \n",
      "     *               *    \n",
      "       *           *      \n",
      "         *       *        \n",
      "           *   *          \n",
      "             *            \n",
      "                          \n"
     ]
    }
   ],
   "source": [
    "affiche(coeur)"
   ]
  },
  {
   "cell_type": "code",
   "execution_count": 246,
   "id": "08fa8ed4",
   "metadata": {},
   "outputs": [
    {
     "name": "stdout",
     "output_type": "stream",
     "text": [
      "                                                                              \n",
      "                                                                              \n",
      "                                                                              \n",
      "                   * * * * * *                   * * * * * *                  \n",
      "                   * * * * * *                   * * * * * *                  \n",
      "                   * * * * * *                   * * * * * *                  \n",
      "             * * *             * * *       * * *             * * *            \n",
      "             * * *             * * *       * * *             * * *            \n",
      "             * * *             * * *       * * *             * * *            \n",
      "       * * *                         * * *                         * * *      \n",
      "       * * *                         * * *                         * * *      \n",
      "       * * *                         * * *                         * * *      \n",
      "       * * *                                                       * * *      \n",
      "       * * *                                                       * * *      \n",
      "       * * *                                                       * * *      \n",
      "       * * *                                                       * * *      \n",
      "       * * *                                                       * * *      \n",
      "       * * *                                                       * * *      \n",
      "             * * *                                           * * *            \n",
      "             * * *                                           * * *            \n",
      "             * * *                                           * * *            \n",
      "                   * * *                               * * *                  \n",
      "                   * * *                               * * *                  \n",
      "                   * * *                               * * *                  \n",
      "                         * * *                   * * *                        \n",
      "                         * * *                   * * *                        \n",
      "                         * * *                   * * *                        \n",
      "                               * * *       * * *                              \n",
      "                               * * *       * * *                              \n",
      "                               * * *       * * *                              \n",
      "                                     * * *                                    \n",
      "                                     * * *                                    \n",
      "                                     * * *                                    \n",
      "                                                                              \n",
      "                                                                              \n",
      "                                                                              \n"
     ]
    }
   ],
   "source": [
    "affiche(zoomDessin(coeur,3))"
   ]
  },
  {
   "cell_type": "markdown",
   "id": "247b896c",
   "metadata": {},
   "source": [
    "---"
   ]
  },
  {
   "cell_type": "markdown",
   "id": "6648cc15",
   "metadata": {},
   "source": [
    "# Sujet n°04"
   ]
  },
  {
   "cell_type": "markdown",
   "id": "2aafd273",
   "metadata": {},
   "source": [
    "## EXERCICE 1 (4 points)\n",
    "\n",
    "Écrire une fonction `a_doublon` qui prend en paramètre une liste triée de nombres et renvoie `True` si la liste contient au moins deux nombres identiques, `False` sinon.\n",
    "\n",
    "### Par exemple :\n",
    "```python\n",
    ">>> a_doublon([])\n",
    "False\n",
    ">>> a_doublon([1])\n",
    "False\n",
    ">>> a_doublon([1, 2, 4, 6, 6])\n",
    "True\n",
    ">>> a_doublon([2, 5, 7, 7, 7, 9])\n",
    "True\n",
    ">>> a_doublon([0, 2, 3])\n",
    "False\n",
    "```"
   ]
  },
  {
   "cell_type": "markdown",
   "id": "687d03f2",
   "metadata": {},
   "source": [
    "## Raisonnement par induction"
   ]
  },
  {
   "cell_type": "markdown",
   "id": "a817877d",
   "metadata": {},
   "source": [
    "### Observation\n",
    "\n",
    "On remarque la liste fournie est triée. Cela signifie que les nombres d'un doublon se suivent.\n",
    "\n",
    "+ Partons de l'exemple `a_doublon([1, 2, 4, 6, 6])`.\n",
    "+ On prend le 2e élément égal à 2 et on le compare au 1e égal à 1. ils ne sont pas égaux, alors on continue.\n",
    "+ On prend le 3e élément égal à 4 et on le compare au 2e égal à 2. ils ne sont pas égaux, alors on continue.\n",
    "+ On prend le 4e élément égal à 6 et on le compare au 3e égal à 4. ils ne sont pas égaux, alors on continue.\n",
    "+ On prend le 5e élément égal à 6 et on le compare au 1e égal à 6. ils sont égaux, alors on retourne `True`.\n",
    "\n",
    "À noté que s'il avait été tous différent, il aurait fallu retourner `True` pour finir."
   ]
  },
  {
   "cell_type": "markdown",
   "id": "cbd96403",
   "metadata": {},
   "source": [
    "### Généralisation\n",
    "\n",
    "On constate qu'on a une itération sur les éléments de la liste fournie en argument, mais à partir du deuxième élément.\n",
    "\n",
    "+ Si la liste est vide, on retourne `False` car une liste vide n'a pas de doublon.\n",
    "+ À partir du deuxième élément et pour chaque élément de la liste, on le compare avec son précédent. S'il y a égalité, alors on retourne `True`.\n",
    "+ Quand on sort de la boucle, cela signifie qu'on a trouvé aucun doublon. On retourne donc False."
   ]
  },
  {
   "cell_type": "markdown",
   "id": "3fcadcd3",
   "metadata": {},
   "source": [
    "### Programmation"
   ]
  },
  {
   "cell_type": "code",
   "execution_count": 247,
   "id": "104e6fc4",
   "metadata": {},
   "outputs": [],
   "source": [
    "def a_doublon(liste):\n",
    "    i = 1  # Cet index permet de parcourir la liste. Initialisé à 1, on commence avec le 2e élément\n",
    "    while i < len(liste):\n",
    "        if liste[i-1] == liste[i]:  # On compare l'élément courrant (index i) avec son précédent (index i-1)\n",
    "            return True\n",
    "        i+=1  # On passe à l'élément suivant\n",
    "        \n",
    "    return False  # ici on n'a pas trouvé de doublon dans le liste."
   ]
  },
  {
   "cell_type": "markdown",
   "id": "c9ffd6b9",
   "metadata": {},
   "source": [
    "## Tests"
   ]
  },
  {
   "cell_type": "code",
   "execution_count": 248,
   "id": "222ef6f9",
   "metadata": {},
   "outputs": [
    {
     "data": {
      "text/plain": [
       "False"
      ]
     },
     "execution_count": 248,
     "metadata": {},
     "output_type": "execute_result"
    }
   ],
   "source": [
    "a_doublon([])"
   ]
  },
  {
   "cell_type": "code",
   "execution_count": 249,
   "id": "65b4a81d",
   "metadata": {},
   "outputs": [
    {
     "data": {
      "text/plain": [
       "False"
      ]
     },
     "execution_count": 249,
     "metadata": {},
     "output_type": "execute_result"
    }
   ],
   "source": [
    "a_doublon([1])"
   ]
  },
  {
   "cell_type": "code",
   "execution_count": 250,
   "id": "38eb40cc",
   "metadata": {},
   "outputs": [
    {
     "data": {
      "text/plain": [
       "True"
      ]
     },
     "execution_count": 250,
     "metadata": {},
     "output_type": "execute_result"
    }
   ],
   "source": [
    "a_doublon([1, 2, 4, 6, 6])"
   ]
  },
  {
   "cell_type": "code",
   "execution_count": 251,
   "id": "91aba1f0",
   "metadata": {},
   "outputs": [
    {
     "data": {
      "text/plain": [
       "True"
      ]
     },
     "execution_count": 251,
     "metadata": {},
     "output_type": "execute_result"
    }
   ],
   "source": [
    "a_doublon([2, 5, 7, 7, 7, 9])"
   ]
  },
  {
   "cell_type": "code",
   "execution_count": 252,
   "id": "69385cc9",
   "metadata": {},
   "outputs": [
    {
     "data": {
      "text/plain": [
       "False"
      ]
     },
     "execution_count": 252,
     "metadata": {},
     "output_type": "execute_result"
    }
   ],
   "source": [
    "a_doublon([0, 2, 3])"
   ]
  },
  {
   "cell_type": "markdown",
   "id": "44f717e5",
   "metadata": {},
   "source": [
    "### Remarque \n",
    "La boucle `while`peut être remplacée par une boucle `for`sur les index:"
   ]
  },
  {
   "cell_type": "code",
   "execution_count": 253,
   "id": "7381f87d",
   "metadata": {},
   "outputs": [],
   "source": [
    "def a_doublon(liste):\n",
    "    for i in range(1,len(liste)):\n",
    "        if liste[i-1] == liste[i]:\n",
    "            return True\n",
    "     \n",
    "    return False"
   ]
  },
  {
   "cell_type": "markdown",
   "id": "ce216e06",
   "metadata": {},
   "source": [
    "### Tests"
   ]
  },
  {
   "cell_type": "code",
   "execution_count": 254,
   "id": "65e62de3",
   "metadata": {},
   "outputs": [
    {
     "data": {
      "text/plain": [
       "False"
      ]
     },
     "execution_count": 254,
     "metadata": {},
     "output_type": "execute_result"
    }
   ],
   "source": [
    "a_doublon([])"
   ]
  },
  {
   "cell_type": "code",
   "execution_count": 255,
   "id": "57e6773f",
   "metadata": {},
   "outputs": [
    {
     "data": {
      "text/plain": [
       "False"
      ]
     },
     "execution_count": 255,
     "metadata": {},
     "output_type": "execute_result"
    }
   ],
   "source": [
    "a_doublon([1])"
   ]
  },
  {
   "cell_type": "code",
   "execution_count": 256,
   "id": "4751ea6c",
   "metadata": {},
   "outputs": [
    {
     "data": {
      "text/plain": [
       "True"
      ]
     },
     "execution_count": 256,
     "metadata": {},
     "output_type": "execute_result"
    }
   ],
   "source": [
    "a_doublon([1, 2, 4, 6, 6])"
   ]
  },
  {
   "cell_type": "code",
   "execution_count": 257,
   "id": "27ff61fa",
   "metadata": {},
   "outputs": [
    {
     "data": {
      "text/plain": [
       "True"
      ]
     },
     "execution_count": 257,
     "metadata": {},
     "output_type": "execute_result"
    }
   ],
   "source": [
    "a_doublon([2, 5, 7, 7, 7, 9])"
   ]
  },
  {
   "cell_type": "code",
   "execution_count": 258,
   "id": "ecb29d39",
   "metadata": {},
   "outputs": [
    {
     "data": {
      "text/plain": [
       "False"
      ]
     },
     "execution_count": 258,
     "metadata": {},
     "output_type": "execute_result"
    }
   ],
   "source": [
    "a_doublon([0, 2, 3])"
   ]
  },
  {
   "cell_type": "markdown",
   "id": "ad667d61",
   "metadata": {},
   "source": [
    "## EXERCICE 2 (4 points)\n",
    "\n",
    "On souhaite générer des grilles du jeu de démineur à partir de la position des bombes à placer.\n",
    "\n",
    "On se limite à la génération de grilles carrées de taille `n × n` où `n` est le nombre de bombes du jeu.\n",
    "\n",
    "Dans le jeu du démineur, chaque case de la grille contient soit une bombe, soit une valeur qui correspond aux nombres de bombes situées dans le voisinage direct de la case (au-dessus, en dessous, à droite, à gauche ou en diagonal : chaque case a donc 8 voisins si elle n'est pas située au bord de la grille).\n",
    "\n",
    "Voici un exemple de grille 5x5 de démineur dans laquelle la bombe est représentée par une étoile :\n",
    "![Démineur: grille 5x5](23-NSI-04-000.png)\n",
    "\n",
    "On utilise une liste de listes pour représenter la grille et on choisit de coder une bombe par la valeur -1.\n",
    "\n",
    "L'exemple ci-contre sera donc codé par la liste :\n",
    "```python\n",
    "[[1, 1, 1, 0, 0],\n",
    " [1, -1, 1 , 1, 1],\n",
    " [2, 2, 3, 2, -1],\n",
    " [1, -1, 2, -1, 3],\n",
    " [1, 1, 2, 2, -1]]\n",
    "``` \n",
    "Compléter le code suivant afin de générer des grilles de démineur, on pourra vérifier que\n",
    "l’instruction `genere_grille([(1, 1), (2, 4), (3, 1), (3, 3), (4, 4)])` produit bien la liste donnée en exemple."
   ]
  },
  {
   "cell_type": "markdown",
   "id": "68c4af2a",
   "metadata": {},
   "source": [
    "```python\n",
    "def voisinage(n, ligne, colonne):\n",
    "    \"\"\" Renvoie la liste des coordonnées des voisins de la case\n",
    "    (ligne, colonne) en gérant les cases sur les bords. \"\"\"\n",
    "    voisins = []\n",
    "    for l in range(max(0,ligne-1), min(n, ligne+2)):\n",
    "        for c in range(max(0, colonne-1), min(n, colonne+2)):\n",
    "            if (l, c) != (ligne, colonne):\n",
    "                voisins.append((l,c))\n",
    "    return voisins\n",
    "\n",
    "def incremente_voisins(grille, ligne, colonne):\n",
    "    \"\"\" Incrémente de 1 toutes les cases voisines d'une bombe.\"\"\"\n",
    "    voisins = ...\n",
    "    for l, c in voisins:\n",
    "        if grille[l][c] != ...: # si ce n'est pas une bombe\n",
    "            ... # on ajoute 1 à sa valeur\n",
    "\n",
    "def genere_grille(bombes):\n",
    "    \"\"\" Renvoie une grille de démineur de taille nxn où n est\n",
    "    le nombre de bombes, en plaçant les bombes à l'aide de\n",
    "    la liste bombes de coordonnées (tuples) passée en\n",
    "    paramètre. \"\"\"\n",
    "    n = len(bombes)\n",
    "    # Initialisation d'une grille nxn remplie de 0\n",
    "    grille = [[0 for colonne in range(n)] for ligne in range(n)]\n",
    "    # Place les bombes et calcule les valeurs des autres cases\n",
    "    for ligne, colonne in bombes:\n",
    "        grille[ligne][colonne] = ...# place la bombe\n",
    "        ...# incrémente ses voisins\n",
    "    return grille\n",
    "```"
   ]
  },
  {
   "cell_type": "markdown",
   "id": "3b497475",
   "metadata": {},
   "source": [
    "### Solution"
   ]
  },
  {
   "cell_type": "code",
   "execution_count": 259,
   "id": "53ef6d30",
   "metadata": {},
   "outputs": [],
   "source": [
    "def voisinage(n, ligne, colonne):\n",
    "    \"\"\" Renvoie la liste des coordonnées des voisins de la case\n",
    "        (ligne, colonne) en gérant les cases sur les bords. \"\"\"\n",
    "    voisins = []\n",
    "    for l in range(max(0,ligne-1), min(n, ligne + 2)):\n",
    "        for c in range(max(0, colonne-1), min(n, colonne+2)):\n",
    "            if (l, c) != (ligne, colonne):\n",
    "                voisins.append((l,c))\n",
    "    return voisins\n",
    "\n",
    "def incremente_voisins(grille, ligne, colonne):\n",
    "    \"\"\" Incrémente de 1 toutes les cases voisines d'une bombe.\"\"\"\n",
    "    voisins = voisinage(len(grille),ligne,colonne)\n",
    "    for l, c in voisins:\n",
    "        if grille[l][c] != -1: # si ce n'est pas une bombe\n",
    "            grille[l][c] += 1  # on ajoute 1 à sa valeur\n",
    "            \n",
    "def genere_grille(bombes):\n",
    "    \"\"\" Renvoie une grille de démineur de taille n x n où n est\n",
    "    le nombre de bombes, en plaçant les bombes à l'aide de\n",
    "    la liste bombes de coordonnées (tuples) passée en\n",
    "    paramètre. \"\"\"\n",
    "    n = len(bombes)\n",
    "    # Initialisation d'une grille n x n remplie de 0\n",
    "    grille = [[0 for colonne in range(n)] for ligne in range(n)]\n",
    "    # Place les bombes et calcule les valeurs des autres cases\n",
    "    for ligne, colonne in bombes:\n",
    "        grille[ligne][colonne] = -1  # place la bombe\n",
    "        incremente_voisins(grille,ligne,colonne)  # incrémente ses voisins\n",
    "    return grille"
   ]
  },
  {
   "cell_type": "markdown",
   "id": "308b4e29",
   "metadata": {},
   "source": [
    "### Test"
   ]
  },
  {
   "cell_type": "code",
   "execution_count": 260,
   "id": "9e935d0d",
   "metadata": {},
   "outputs": [
    {
     "data": {
      "text/plain": [
       "[[1, 1, 1, 0, 0],\n",
       " [1, -1, 1, 1, 1],\n",
       " [2, 2, 3, 2, -1],\n",
       " [1, -1, 2, -1, 3],\n",
       " [1, 1, 2, 2, -1]]"
      ]
     },
     "execution_count": 260,
     "metadata": {},
     "output_type": "execute_result"
    }
   ],
   "source": [
    "genere_grille([(1, 1), (2, 4), (3, 1), (3, 3), (4, 4)])"
   ]
  },
  {
   "cell_type": "markdown",
   "id": "4c3e98eb",
   "metadata": {},
   "source": [
    "---"
   ]
  },
  {
   "cell_type": "markdown",
   "id": "4b6fd159",
   "metadata": {},
   "source": [
    "# Sujet n°05"
   ]
  },
  {
   "cell_type": "markdown",
   "id": "cc0552ef",
   "metadata": {},
   "source": [
    "## EXERCICE 1 (4 points)\n",
    "\n",
    "Écrire en python deux fonctions :\n",
    "* `lancer` de paramètre `n`, un entier positif, qui renvoie un tableau de type `list` de `n` entiers obtenus aléatoirement entre 1 et 6 (1 et 6 inclus) ;\n",
    "+ `paire_6` de paramètre `tab`, un tableau de type `list` de `n` entiers entre 1 et 6 obtenus aléatoirement, qui renvoie un booléen égal à `True` si le nombre de 6 est supérieur ou égal à 2, `False` sinon.\n",
    "\n",
    "On pourra utiliser la fonction `randint(a,b)` du module `random` pour laquelle la documentation officielle est la suivante :\n",
    "\n",
    "Renvoie un entier aléatoire `N` tel que `a <=N <= b`.\n",
    "\n",
    "### Exemples :\n",
    "```python\n",
    ">>> lancer1 = lancer(5)\n",
    "[5, 6, 6, 2, 2]\n",
    ">>> paire_6(lancer1)\n",
    "True\n",
    ">>> lancer2 = lancer(5)\n",
    "[6, 5, 1, 6, 6]\n",
    ">>> paire_6(lancer2)\n",
    "True\n",
    ">>> lancer3 = lancer(3)\n",
    "[2, 2, 6]\n",
    ">>> paire_6(lancer3)\n",
    "False\n",
    ">>> lancer4 = lancer(0)\n",
    "[]\n",
    ">>> paire_6(lancer4)\n",
    "False\n",
    "```"
   ]
  },
  {
   "cell_type": "markdown",
   "id": "e8b0e68f",
   "metadata": {},
   "source": [
    "### Programmation de la fonction `lancer`\n",
    "\n",
    "Cette fonction ne pose pas de problème; On itère `n` fois et à chaque itération  :\n",
    "+ On génère un nombe aléatoire entre 1 et 6\n",
    "+ On l'ajoute à une liste initialement vide.\n",
    "+ On retourne la liste"
   ]
  },
  {
   "cell_type": "code",
   "execution_count": 261,
   "id": "495414e2",
   "metadata": {},
   "outputs": [],
   "source": [
    "import random\n",
    "\n",
    "def lancer(n):\n",
    "    resultat = []\n",
    "    for i in range(n):\n",
    "        alea = random.randint(1,6)\n",
    "        resultat.append(alea)\n",
    "        \n",
    "    return resultat"
   ]
  },
  {
   "cell_type": "markdown",
   "id": "e95cfcf1",
   "metadata": {},
   "source": [
    "### Test de la fonction `lancer`"
   ]
  },
  {
   "cell_type": "code",
   "execution_count": 262,
   "id": "8f367047",
   "metadata": {},
   "outputs": [
    {
     "data": {
      "text/plain": [
       "[3, 4, 3, 3, 3, 2, 1, 2, 5]"
      ]
     },
     "execution_count": 262,
     "metadata": {},
     "output_type": "execute_result"
    }
   ],
   "source": [
    "lancer(9)"
   ]
  },
  {
   "cell_type": "markdown",
   "id": "f6c0e459",
   "metadata": {},
   "source": [
    "### programmation de la fonction `paire_6`\n",
    "\n",
    "+ On itère sur les élément de la liste en comptant au fur et à mesure le nombre de 6\n",
    "+ Dés qu'on a 2 six, on retourne `True`.\n",
    "+ Si on sort de la boucle, cela signifie qu'on n'a pas compté 2 six. Donc on retourne `False`"
   ]
  },
  {
   "cell_type": "code",
   "execution_count": 263,
   "id": "e5905003",
   "metadata": {},
   "outputs": [],
   "source": [
    "def paire_6(tab):\n",
    "    nombre_de_six = 0\n",
    "    \n",
    "    for valeur in tab:\n",
    "        if valeur == 6:\n",
    "            nombre_de_six += 1\n",
    "            if nombre_de_six == 2:\n",
    "                return True\n",
    "            \n",
    "    return False"
   ]
  },
  {
   "cell_type": "markdown",
   "id": "5e815e1b",
   "metadata": {},
   "source": [
    "### Tests"
   ]
  },
  {
   "cell_type": "code",
   "execution_count": 264,
   "id": "295edb4f",
   "metadata": {},
   "outputs": [],
   "source": [
    "tab = lancer(9)"
   ]
  },
  {
   "cell_type": "code",
   "execution_count": 265,
   "id": "e40ed220",
   "metadata": {},
   "outputs": [
    {
     "data": {
      "text/plain": [
       "[6, 3, 1, 5, 2, 2, 2, 3, 3]"
      ]
     },
     "execution_count": 265,
     "metadata": {},
     "output_type": "execute_result"
    }
   ],
   "source": [
    "tab"
   ]
  },
  {
   "cell_type": "code",
   "execution_count": 266,
   "id": "8379c536",
   "metadata": {},
   "outputs": [
    {
     "data": {
      "text/plain": [
       "False"
      ]
     },
     "execution_count": 266,
     "metadata": {},
     "output_type": "execute_result"
    }
   ],
   "source": [
    "paire_6(tab)"
   ]
  },
  {
   "cell_type": "code",
   "execution_count": 267,
   "id": "326d970e",
   "metadata": {},
   "outputs": [],
   "source": [
    "tab = lancer(3)"
   ]
  },
  {
   "cell_type": "code",
   "execution_count": 268,
   "id": "d7561872",
   "metadata": {},
   "outputs": [
    {
     "data": {
      "text/plain": [
       "[3, 1, 4]"
      ]
     },
     "execution_count": 268,
     "metadata": {},
     "output_type": "execute_result"
    }
   ],
   "source": [
    "tab"
   ]
  },
  {
   "cell_type": "code",
   "execution_count": 269,
   "id": "ed0c7636",
   "metadata": {},
   "outputs": [
    {
     "data": {
      "text/plain": [
       "False"
      ]
     },
     "execution_count": 269,
     "metadata": {},
     "output_type": "execute_result"
    }
   ],
   "source": [
    "paire_6(tab)"
   ]
  },
  {
   "cell_type": "markdown",
   "id": "755eeda3",
   "metadata": {},
   "source": [
    "## EXERCICE 2 (4 points)\n",
    "\n",
    "On considère une image en 256 niveaux de gris que l’on représente par une grille de nombres, c’est-à-dire une liste composée de sous-listes toutes de longueurs identiques.\n",
    "\n",
    "La largeur de l’image est donc la longueur d’une sous-liste et la hauteur de l’image est le nombre de sous-listes.\n",
    "\n",
    "Chaque sous-liste représente une ligne de l’image et chaque élément des sous-listes est un entier compris entre 0 et 255, représentant l’intensité lumineuse du pixel.\n",
    "\n",
    "Le négatif d’une image est l’image constituée des pixels $x_n$ tels que $x_n + x_i = 255$ où $x_i$ est le pixel correspondant de l’image initiale.\n",
    "\n",
    "Compléter le programme proposé suivant :"
   ]
  },
  {
   "cell_type": "markdown",
   "id": "67f9fe29",
   "metadata": {},
   "source": [
    "```python\n",
    "def nbLig(image):\n",
    "    '''renvoie le nombre de lignes de l'image'''\n",
    "    return ...\n",
    "\n",
    "def nbCol(image):\n",
    "    '''renvoie la largeur de l'image'''\n",
    "    return ...\n",
    "\n",
    "def negatif(image):\n",
    "    '''renvoie le négatif de l'image sous la forme\n",
    "    d'une liste de listes'''\n",
    "    # on créé une image de 0 aux mêmes dimensions que le paramètre image\n",
    "    L = [[0 for k in range(nbCol(image))] for i in range(nbLig(image))]\n",
    "    for i in range(nbLig(image)):\n",
    "        for j in range(...):\n",
    "            L[i][j] = ...\n",
    "    return L\n",
    "\n",
    "def binaire(image, seuil):\n",
    "    '''renvoie une image binarisée de l'image sous la forme\n",
    "        d'une liste de listes contenant des 0 si la valeur\n",
    "        du pixel est strictement inférieure au seuil\n",
    "        et 1 sinon'''\n",
    "    # on crée une image de 0 aux mêmes dimensions que le paramètre image\n",
    "    L = [[0 for k in range(nbCol(image))] for i in range(nbLig(image))]\n",
    "    for i in range(nbLig(image)):\n",
    "        for j in range(...):\n",
    "            if image[i][j] < ... :\n",
    "                L[i][j] = ...\n",
    "            else:\n",
    "                L[i][j] = ...\n",
    "    return L\n",
    "```"
   ]
  },
  {
   "cell_type": "markdown",
   "id": "16763128",
   "metadata": {},
   "source": [
    "### Exemples :\n",
    "```python\n",
    ">>> img=[[20, 34, 254, 145, 6], [23, 124, 237, 225, 69], [197, 174, 207, 25, 87], [255, 0, 24, 197, 189]]\n",
    ">>> nbLig(img)\n",
    "4\n",
    ">>> nbCol(img)\n",
    "5\n",
    ">>> negatif(img)\n",
    "[[235, 221, 1, 110, 249], [232, 131, 18, 30, 186], [58, 81, 48, 230, 168], [0, 255, 231, 58, 66]]\n",
    ">>> binaire(img,120)\n",
    "[[0, 0, 1, 1, 0], [0, 1, 1, 1, 0], [1, 1, 1, 0, 0], [1, 0, 0, 1, 1]]\n",
    "```"
   ]
  },
  {
   "cell_type": "markdown",
   "id": "e02f21f9",
   "metadata": {},
   "source": [
    "### Solution"
   ]
  },
  {
   "cell_type": "code",
   "execution_count": 270,
   "id": "75bdf54c",
   "metadata": {},
   "outputs": [],
   "source": [
    "def nbLig(image):\n",
    "    '''renvoie le nombre de lignes de l'image'''\n",
    "    return len(image)\n",
    "\n",
    "def nbCol(image):\n",
    "    '''renvoie la largeur de l'image'''\n",
    "    return len(image[0])\n",
    "\n",
    "def negatif(image):\n",
    "    '''renvoie le négatif de l'image sous la forme\n",
    "        d'une liste de listes'''\n",
    "    # on créé une image de 0 aux mêmes dimensions que le paramètre image\n",
    "    L = [[0 for k in range(nbCol(image))] for i in range(nbLig(image))]\n",
    "    for i in range(nbLig(image)):\n",
    "        for j in range(nbCol(image)):\n",
    "            L[i][j] = 255 - image[i][j]\n",
    "    return L\n",
    "\n",
    "def binaire(image, seuil):\n",
    "    '''renvoie une image binarisée de l'image sous la forme\n",
    "        d'une liste de listes contenant des 0 si la valeur\n",
    "        du pixel est strictement inférieure au seuil\n",
    "        et 1 sinon'''\n",
    "    # on crée une image de 0 aux mêmes dimensions que le paramètre image\n",
    "    L = [[0 for k in range(nbCol(image))] for i in range(nbLig(image))]\n",
    "    for i in range(nbLig(image)):\n",
    "        for j in range(nbCol(image)):\n",
    "            if image[i][j] < seuil :\n",
    "                L[i][j] = 0\n",
    "            else:\n",
    "                L[i][j] = 1\n",
    "    return L"
   ]
  },
  {
   "cell_type": "markdown",
   "id": "eeeac022",
   "metadata": {},
   "source": [
    "### Tests"
   ]
  },
  {
   "cell_type": "code",
   "execution_count": 271,
   "id": "2a69a570",
   "metadata": {},
   "outputs": [],
   "source": [
    "img=[[20, 34, 254, 145, 6], [23, 124, 237, 225, 69], [197, 174, 207, 25, 87], [255, 0, 24, 197, 189]]"
   ]
  },
  {
   "cell_type": "code",
   "execution_count": 272,
   "id": "c0357996",
   "metadata": {},
   "outputs": [
    {
     "data": {
      "text/plain": [
       "4"
      ]
     },
     "execution_count": 272,
     "metadata": {},
     "output_type": "execute_result"
    }
   ],
   "source": [
    "nbLig(img)"
   ]
  },
  {
   "cell_type": "code",
   "execution_count": 273,
   "id": "86c81718",
   "metadata": {},
   "outputs": [
    {
     "data": {
      "text/plain": [
       "5"
      ]
     },
     "execution_count": 273,
     "metadata": {},
     "output_type": "execute_result"
    }
   ],
   "source": [
    "nbCol(img)"
   ]
  },
  {
   "cell_type": "code",
   "execution_count": 274,
   "id": "db2710cb",
   "metadata": {},
   "outputs": [
    {
     "data": {
      "text/plain": [
       "[[235, 221, 1, 110, 249],\n",
       " [232, 131, 18, 30, 186],\n",
       " [58, 81, 48, 230, 168],\n",
       " [0, 255, 231, 58, 66]]"
      ]
     },
     "execution_count": 274,
     "metadata": {},
     "output_type": "execute_result"
    }
   ],
   "source": [
    "negatif(img)"
   ]
  },
  {
   "cell_type": "code",
   "execution_count": 275,
   "id": "c33e459e",
   "metadata": {},
   "outputs": [
    {
     "data": {
      "text/plain": [
       "[[0, 0, 1, 1, 0], [0, 1, 1, 1, 0], [1, 1, 1, 0, 0], [1, 0, 0, 1, 1]]"
      ]
     },
     "execution_count": 275,
     "metadata": {},
     "output_type": "execute_result"
    }
   ],
   "source": [
    "binaire(img,120)"
   ]
  },
  {
   "cell_type": "markdown",
   "id": "0bd4b47b",
   "metadata": {},
   "source": [
    "---"
   ]
  },
  {
   "cell_type": "markdown",
   "id": "a9b6d411",
   "metadata": {},
   "source": [
    "# Sujet n°06"
   ]
  },
  {
   "cell_type": "markdown",
   "id": "e392d29e",
   "metadata": {},
   "source": [
    "## EXERCICE 1 (4 points)\n",
    "\n",
    "Programmer la fonction `recherche`, prenant en paramètre un tableau non vide `tab` (de type `list`) d'entiers et un entier `n`, et qui renvoie l'indice de la dernière occurrence de l'élément cherché. Si l'élément n'est pas présent, la fonction renvoie la longueur du tableau.\n",
    "\n",
    "### Exemples :\n",
    "```python\n",
    ">>> recherche([5, 3], 1)\n",
    "2\n",
    ">>> recherche([2, 4], 2)\n",
    "0\n",
    ">>> recherche([2, 3, 5, 2, 4], 2)\n",
    "3\n",
    "```"
   ]
  },
  {
   "cell_type": "markdown",
   "id": "99afbb7c",
   "metadata": {},
   "source": [
    "### Raisonnement inductif"
   ]
  },
  {
   "cell_type": "markdown",
   "id": "887cbf26",
   "metadata": {},
   "source": [
    "#### Observation\n",
    "\n",
    "+ Partons de l'exemple `recherche([2, 3, 5, 2, 4], 2)`\n",
    "+ On récupère 2 l'élémenent d'index 0 du tableau. Il est égal à 2. On conserve son index 0.\n",
    "+ On récupère 3 l'élémenent d'index 1 du tableau. Il n'est pas égal à 2. On continue.\n",
    "+ On récupère 5 l'élémenent d'index 2 du tableau. Il n'est pas égal à 2. On conserve son index.\n",
    "+ On récupère 2 l'élémenent d'index 0 du tableau. Il est égal à 2. On conserve son index.\n",
    "+ On récupère 2 l'élémenent d'index 0 du tableau. Il est égal à 2. On conserve son index.\n",
    "\n",
    "### Généralisation\n",
    "+ On initialise une variable `derniere_occurence` à la longueur du tableau. Cette variable permettra de sauvegarder l'indice de la dernière occurence de `n` trouvée.\n",
    "+ On parcout le tableau `tab`.\n",
    "+ Si le `i`-ième élément de tab est égal à `n`, on retient l'indice `i` dans la variable `derniere_occurence`.\n",
    "+ On retourne cette dernière variable.\n",
    "\n",
    "### Programmation"
   ]
  },
  {
   "cell_type": "code",
   "execution_count": 276,
   "id": "af0558ee",
   "metadata": {},
   "outputs": [],
   "source": [
    "def  recherche(tab,n):\n",
    "    derniere_occurrence = len(tab)\n",
    "    \n",
    "    i = 0\n",
    "    while i < len(tab):\n",
    "        if tab[i] == n:\n",
    "            derniere_occurrence = i\n",
    "        i += 1\n",
    "    \n",
    "    return derniere_occurrence\n"
   ]
  },
  {
   "cell_type": "markdown",
   "id": "5742fb49",
   "metadata": {},
   "source": [
    "### Tests"
   ]
  },
  {
   "cell_type": "code",
   "execution_count": 277,
   "id": "39a9541c",
   "metadata": {},
   "outputs": [
    {
     "data": {
      "text/plain": [
       "2"
      ]
     },
     "execution_count": 277,
     "metadata": {},
     "output_type": "execute_result"
    }
   ],
   "source": [
    "recherche([5, 3], 1)"
   ]
  },
  {
   "cell_type": "code",
   "execution_count": 278,
   "id": "0e287ae2",
   "metadata": {},
   "outputs": [
    {
     "data": {
      "text/plain": [
       "0"
      ]
     },
     "execution_count": 278,
     "metadata": {},
     "output_type": "execute_result"
    }
   ],
   "source": [
    "recherche([2, 4], 2)"
   ]
  },
  {
   "cell_type": "code",
   "execution_count": 279,
   "id": "5f26672a",
   "metadata": {},
   "outputs": [
    {
     "data": {
      "text/plain": [
       "3"
      ]
     },
     "execution_count": 279,
     "metadata": {},
     "output_type": "execute_result"
    }
   ],
   "source": [
    "recherche([2, 3, 5, 2, 4], 2)"
   ]
  },
  {
   "cell_type": "markdown",
   "id": "9e9f3121",
   "metadata": {},
   "source": [
    "#### Remarque\n",
    "\n",
    "Dans l'algorithme proposé ci-dessus, on parcourt tous les éléments du tableau du premier au dernier pour trouver  la dernière occurence. C'est naturel (car on parcourt souvent les tableaux dans cette direction), mais inefficace. C'est inefficace car on est obligé de parcourir tous les éléments du tableau.\n",
    "\n",
    "Moins intuitif, mais beaucoup plus efficace est de parcourir tous les éléments du dernier au premier. Et dès qu'on trouve une accurence, on sort de la fonction sans avoir bessoin de parcourir le reste du tableau car on sait que c'est nécessairement la dernière occurence.\n",
    "\n",
    "Voici l'algorithme :"
   ]
  },
  {
   "cell_type": "code",
   "execution_count": 280,
   "id": "15fd8065",
   "metadata": {},
   "outputs": [],
   "source": [
    "def recherche(tab,n):\n",
    "    i = len(tab) - 1\n",
    "    \n",
    "    while i >= 0:\n",
    "        if tab[i] == n:\n",
    "            return i\n",
    "        i -= 1\n",
    "    \n",
    "    return len(tab)"
   ]
  },
  {
   "cell_type": "markdown",
   "id": "fca2edc9",
   "metadata": {},
   "source": [
    "### Tests"
   ]
  },
  {
   "cell_type": "code",
   "execution_count": 281,
   "id": "b83c1376",
   "metadata": {},
   "outputs": [
    {
     "data": {
      "text/plain": [
       "2"
      ]
     },
     "execution_count": 281,
     "metadata": {},
     "output_type": "execute_result"
    }
   ],
   "source": [
    "recherche([5, 3], 1)"
   ]
  },
  {
   "cell_type": "code",
   "execution_count": 282,
   "id": "b25c5bd6",
   "metadata": {},
   "outputs": [
    {
     "data": {
      "text/plain": [
       "0"
      ]
     },
     "execution_count": 282,
     "metadata": {},
     "output_type": "execute_result"
    }
   ],
   "source": [
    "recherche([2, 4], 2)"
   ]
  },
  {
   "cell_type": "code",
   "execution_count": 283,
   "id": "f98ef1a8",
   "metadata": {},
   "outputs": [
    {
     "data": {
      "text/plain": [
       "3"
      ]
     },
     "execution_count": 283,
     "metadata": {},
     "output_type": "execute_result"
    }
   ],
   "source": [
    "recherche([2, 3, 5, 2, 4], 2)"
   ]
  },
  {
   "cell_type": "markdown",
   "id": "40c674e2",
   "metadata": {},
   "source": [
    "## EXERCICE 2 (4 points)\n",
    "\n",
    "On souhaite programmer une fonction donnant la distance la plus courte entre un point de départ et une liste de points. Les points sont tous à coordonnées entières.\n",
    "\n",
    "Les points sont donnés sous la forme d'un tuple de deux entiers.\n",
    "\n",
    "La liste des points à traiter est donc un tableau, non vide, de tuples.\n",
    "\n",
    "On rappelle que la distance entre deux points du plan de coordonnées $(x ; y)$ et $(x' ; y')$ est donnée par la formule :\n",
    "$$d = \\sqrt{(x − x')^2 + (y − y')^2}.$$\n",
    "\n",
    "On importe pour cela la fonction racine carrée (`sqrt`) du module `math` de Python.\n",
    "\n",
    "Compléter le code des fonctions `distance` et `plus_courte_distance` fournies à la ci-dessous pour qu’elles répondent à leurs spécifications.\n",
    "\n",
    "```python\n",
    "# import de la fonction racine carrée\n",
    "from math import sqrt\n",
    "\n",
    "def distance(point1, point2):\n",
    "    \"\"\" Calcule et renvoie la distance entre deux points. \"\"\"\n",
    "    return sqrt((......)**2 + (......)**2)\n",
    "\n",
    "def plus_courte_distance(tab, depart):\n",
    "    \"\"\" Renvoie le point du tableau tab se trouvant à la plus\n",
    "    courte distance du point depart.\"\"\"\n",
    "\n",
    "    point = tab[0]\n",
    "    min_dist = ......\n",
    "\n",
    "    for i in range (1, ......):\n",
    "        if distance(tab[i], depart)......:\n",
    "            point = ......\n",
    "            min_dist = ......\n",
    "\n",
    "    return point\n",
    "```\n",
    "\n",
    "#### Exemples :\n",
    "```python\n",
    ">>> distance((1, 0), (5, 3))\n",
    "5.0\n",
    ">>> distance((1, 0), (0, 1))\n",
    "1.4142135623730951\n",
    ">>> plus_courte_distance([(7, 9), (2, 5), (5, 2)], (0, 0))\n",
    "(2, 5)\n",
    ">>> plus_courte_distance([(7, 9), (2, 5), (5, 2)], (5, 2))\n",
    "(5, 2)\n",
    "```"
   ]
  },
  {
   "cell_type": "markdown",
   "id": "f19cc3f1",
   "metadata": {},
   "source": [
    "## Solution"
   ]
  },
  {
   "cell_type": "code",
   "execution_count": 284,
   "id": "09de4468",
   "metadata": {},
   "outputs": [],
   "source": [
    "from math import sqrt\n",
    "\n",
    "def distance(point1, point2):\n",
    "    \"\"\" Calcule et renvoie la distance entre deux points. \"\"\"\n",
    "    return sqrt((point1[0]-point2[0])**2 + (point1[1]-point2[1])**2)\n",
    "\n",
    "def plus_courte_distance(tab, depart):\n",
    "    \"\"\" Renvoie le point du tableau tab se trouvant à la plus\n",
    "    courte distance du point depart.\"\"\"\n",
    " \n",
    "    point = tab[0]\n",
    "    min_dist = distance(point,depart)\n",
    "\n",
    "    for i in range (1, len(tab)):\n",
    "        if distance(tab[i], depart) < min_dist:\n",
    "            point = tab[i]\n",
    "            min_dist = distance(point,depart)\n",
    "\n",
    "    return point"
   ]
  },
  {
   "cell_type": "markdown",
   "id": "d775f393",
   "metadata": {},
   "source": [
    "### Tests"
   ]
  },
  {
   "cell_type": "code",
   "execution_count": 285,
   "id": "e85931be",
   "metadata": {},
   "outputs": [
    {
     "data": {
      "text/plain": [
       "5.0"
      ]
     },
     "execution_count": 285,
     "metadata": {},
     "output_type": "execute_result"
    }
   ],
   "source": [
    "distance((1, 0), (5, 3))"
   ]
  },
  {
   "cell_type": "code",
   "execution_count": 286,
   "id": "e75f65eb",
   "metadata": {},
   "outputs": [
    {
     "data": {
      "text/plain": [
       "1.4142135623730951"
      ]
     },
     "execution_count": 286,
     "metadata": {},
     "output_type": "execute_result"
    }
   ],
   "source": [
    "distance((1, 0), (0, 1))"
   ]
  },
  {
   "cell_type": "code",
   "execution_count": 287,
   "id": "41caa117",
   "metadata": {},
   "outputs": [
    {
     "data": {
      "text/plain": [
       "(2, 5)"
      ]
     },
     "execution_count": 287,
     "metadata": {},
     "output_type": "execute_result"
    }
   ],
   "source": [
    "plus_courte_distance([(7, 9), (2, 5), (5, 2)], (0, 0))"
   ]
  },
  {
   "cell_type": "code",
   "execution_count": 288,
   "id": "23373594",
   "metadata": {},
   "outputs": [
    {
     "data": {
      "text/plain": [
       "(5, 2)"
      ]
     },
     "execution_count": 288,
     "metadata": {},
     "output_type": "execute_result"
    }
   ],
   "source": [
    "plus_courte_distance([(7, 9), (2, 5), (5, 2)], (5, 2))"
   ]
  },
  {
   "cell_type": "markdown",
   "id": "0ba40d44",
   "metadata": {},
   "source": [
    "---"
   ]
  },
  {
   "cell_type": "markdown",
   "id": "f0b2f5b6",
   "metadata": {},
   "source": [
    "# Sujet 10"
   ]
  },
  {
   "cell_type": "markdown",
   "id": "1d7c4728",
   "metadata": {},
   "source": [
    "## EXERCICE 1\n",
    "\n",
    "Écrire la fonction `maxliste`, prenant en paramètre un tableau non vide de nombres `tab` (de type `list`) et renvoyant le plus grand élément de ce tableau.\n",
    "\n",
    "### Exemples :\n",
    "```python\n",
    ">>> maxliste([98, 12, 104, 23, 131, 9])\n",
    "131\n",
    ">>> maxliste([-27, 24, -3, 15])\n",
    "24\n",
    "```"
   ]
  },
  {
   "cell_type": "code",
   "execution_count": 289,
   "id": "ad71048d",
   "metadata": {},
   "outputs": [],
   "source": [
    "def maxliste(tab):\n",
    "    maximum  = tab[0]\n",
    "    \n",
    "    i = 1\n",
    "    while i < len(tab):\n",
    "        if tab[i] > maximum :\n",
    "            maximum = tab[i]\n",
    "        i += 1\n",
    "        \n",
    "    return maximum"
   ]
  },
  {
   "cell_type": "markdown",
   "id": "934df163",
   "metadata": {},
   "source": [
    "### Tests"
   ]
  },
  {
   "cell_type": "code",
   "execution_count": 290,
   "id": "6152c1a8",
   "metadata": {},
   "outputs": [
    {
     "data": {
      "text/plain": [
       "131"
      ]
     },
     "execution_count": 290,
     "metadata": {},
     "output_type": "execute_result"
    }
   ],
   "source": [
    " maxliste([98, 12, 104, 23, 131, 9])"
   ]
  },
  {
   "cell_type": "code",
   "execution_count": 291,
   "id": "c24ee892",
   "metadata": {},
   "outputs": [
    {
     "data": {
      "text/plain": [
       "24"
      ]
     },
     "execution_count": 291,
     "metadata": {},
     "output_type": "execute_result"
    }
   ],
   "source": [
    "maxliste([-27, 24, -3, 15])"
   ]
  },
  {
   "cell_type": "markdown",
   "id": "53f6ef74",
   "metadata": {},
   "source": [
    "### Remarque\n",
    "\n",
    "Comme d'habitude, quand on parcours une liste il est possible d'utiliser une boucle `for` à la place d'une boucle `while`. Voici l'algorithme modifié:"
   ]
  },
  {
   "cell_type": "code",
   "execution_count": 292,
   "id": "e66f9a53",
   "metadata": {},
   "outputs": [],
   "source": [
    "def maxliste(tab):\n",
    "    maximum  = tab[0]\n",
    "    \n",
    "    for i in range(1,len(tab)):\n",
    "        if tab[i] > maximum :\n",
    "            maximum = tab[i]\n",
    "        \n",
    "    return maximum"
   ]
  },
  {
   "cell_type": "markdown",
   "id": "f1fcefc8",
   "metadata": {},
   "source": [
    "### Tests "
   ]
  },
  {
   "cell_type": "code",
   "execution_count": 293,
   "id": "ccaa8e4f",
   "metadata": {},
   "outputs": [
    {
     "data": {
      "text/plain": [
       "131"
      ]
     },
     "execution_count": 293,
     "metadata": {},
     "output_type": "execute_result"
    }
   ],
   "source": [
    " maxliste([98, 12, 104, 23, 131, 9])"
   ]
  },
  {
   "cell_type": "code",
   "execution_count": 294,
   "id": "6930e4b9",
   "metadata": {},
   "outputs": [
    {
     "data": {
      "text/plain": [
       "24"
      ]
     },
     "execution_count": 294,
     "metadata": {},
     "output_type": "execute_result"
    }
   ],
   "source": [
    "maxliste([-27, 24, -3, 15])"
   ]
  },
  {
   "cell_type": "markdown",
   "id": "c639e06d",
   "metadata": {},
   "source": [
    "Il est possible dans ce cas particulier de parcours les éléments de la liste sans passer par l'usage de l'index, mais cet algorithme à un inconvénient: on compare au début de la boucle l'élément d'index 0 avec lui-même ce qui est inutile. "
   ]
  },
  {
   "cell_type": "code",
   "execution_count": 295,
   "id": "545867a8",
   "metadata": {},
   "outputs": [],
   "source": [
    "def maxliste(tab):\n",
    "    maximum  = tab[0]\n",
    "    \n",
    "    for elt  in tab:\n",
    "        if elt > maximum :\n",
    "            maximum = elt\n",
    "        \n",
    "    return maximum\n"
   ]
  },
  {
   "cell_type": "markdown",
   "id": "bc485e79",
   "metadata": {},
   "source": [
    "### Tests "
   ]
  },
  {
   "cell_type": "code",
   "execution_count": 296,
   "id": "5d09940d",
   "metadata": {},
   "outputs": [
    {
     "data": {
      "text/plain": [
       "131"
      ]
     },
     "execution_count": 296,
     "metadata": {},
     "output_type": "execute_result"
    }
   ],
   "source": [
    " maxliste([98, 12, 104, 23, 131, 9])"
   ]
  },
  {
   "cell_type": "code",
   "execution_count": 297,
   "id": "afeb0c0d",
   "metadata": {},
   "outputs": [
    {
     "data": {
      "text/plain": [
       "24"
      ]
     },
     "execution_count": 297,
     "metadata": {},
     "output_type": "execute_result"
    }
   ],
   "source": [
    "maxliste([-27, 24, -3, 15])"
   ]
  },
  {
   "cell_type": "markdown",
   "id": "4fb67f04",
   "metadata": {},
   "source": [
    "## EXERCICE 2 (4 points)\n",
    "On dispose de chaînes de caractères contenant uniquement des parenthèses ouvrantes et fermantes.\n",
    "\n",
    "Un parenthésage est correct si :\n",
    "+ le nombre de parenthèses ouvrantes de la chaîne est égal au nombre de parenthèses fermantes.\n",
    "+  en parcourant la chaîne de gauche à droite, le nombre de parenthèses déjà ouvertes doit être, à tout moment, supérieur ou égal au nombre de parenthèses déjà fermées.\n",
    "\n",
    "Ainsi, `\"((()())(()))\"` est un parenthésage correct.\n",
    "\n",
    "Les parenthésages `\"())(()\"̀  et `\"(())(()\"` sont, eux, incorrects.\n",
    "\n",
    "On dispose du code de la classe Pile suivant :"
   ]
  },
  {
   "cell_type": "code",
   "execution_count": 298,
   "id": "7f22c50d",
   "metadata": {},
   "outputs": [],
   "source": [
    "class Pile:\n",
    "    \"\"\"\n",
    "    Classe définissant une pile\n",
    "    \"\"\"\n",
    "    def __init__(self):\n",
    "        self.valeurs = []\n",
    "\n",
    "    def est_vide(self):\n",
    "        \"\"\"\n",
    "        Renvoie True si la pile est vide, False sinon\n",
    "        \"\"\"\n",
    "        return self.valeurs == []\n",
    "\n",
    "    def empiler(self, c):\n",
    "        \"\"\"\n",
    "        Place l’élément c au sommet de la pile\n",
    "        \"\"\"\n",
    "        self.valeurs.append(c)\n",
    "\n",
    "    def depiler(self):\n",
    "        \"\"\"\n",
    "        Supprime l’élément placé au sommet de la pile, à condition qu’elle soit non vide\n",
    "        \"\"\"\n",
    "        if self.est_vide() == False:\n",
    "            self.valeurs.pop()"
   ]
  },
  {
   "cell_type": "markdown",
   "id": "c67ecb2b",
   "metadata": {},
   "source": [
    "On souhaite programmer une fonction `parenthesage` qui prend en paramètre une chaîne de caractères ch formée de parenthèses et renvoie `True` si la chaîne `ch` est bien parenthésée et `False` sinon.\n",
    "\n",
    "Cette fonction utilise une pile et suit le principe suivant : en parcourant la chaîne de gauche à droite, si on trouve une parenthèse ouvrante, on l’empile au sommet de la pile et si on trouve une parenthèse fermante, on dépile (si possible) la parenthèse ouvrante stockée au sommet de la pile.\n",
    "\n",
    "La chaîne est alors bien parenthésée si, à la fin du parcours, la pile est vide.\n",
    "\n",
    "Elle est, par contre, mal parenthésée :\n",
    "+ si dans le parcours, on trouve une parenthèse fermante, alors que la pile est vide ;\n",
    "+ ou si, à la fin du parcours, la pile n’est pas vide."
   ]
  },
  {
   "cell_type": "markdown",
   "id": "9525e55c",
   "metadata": {},
   "source": [
    "```python\n",
    "def parenthesage(ch):\n",
    "    \"\"\"\n",
    "    Renvoie True si la chaîne ch est bien parenthésée\n",
    "    et False sinon\n",
    "    \"\"\"\n",
    "    p = Pile()\n",
    "    for c in ch:\n",
    "        if c == ...:\n",
    "            p.empiler(c)\n",
    "        elif c == ...:\n",
    "            if p.est_vide():\n",
    "                return ...\n",
    "            else:\n",
    "                ...\n",
    "    return p.est_vide()\n",
    "```"
   ]
  },
  {
   "cell_type": "markdown",
   "id": "3394366b",
   "metadata": {},
   "source": [
    "Compléter le code de la function parenthesage et le tester.\n",
    "\n",
    "### Exemples :\n",
    "```python\n",
    ">>> parenthesage(\"((()())(()))\")\n",
    "True\n",
    ">>> parenthesage(\"())(()\")\n",
    "False\n",
    ">>> parenthesage(\"(())(()\")\n",
    "False\n",
    "```"
   ]
  },
  {
   "cell_type": "code",
   "execution_count": 299,
   "id": "5ee67db5",
   "metadata": {},
   "outputs": [],
   "source": [
    "def parenthesage(ch):\n",
    "    \"\"\"\n",
    "    Renvoie True si la chaîne ch est bien parenthésée et False sinon\n",
    "    \"\"\"\n",
    "    p = Pile()\n",
    "    for c in ch:\n",
    "        if c == \"(\":\n",
    "            p.empiler(c)\n",
    "        elif c == \")\":\n",
    "            if p.est_vide():\n",
    "                return False\n",
    "            else:\n",
    "                p.depiler()\n",
    "    return p.est_vide()"
   ]
  },
  {
   "cell_type": "markdown",
   "id": "55984e3d",
   "metadata": {},
   "source": [
    "### Tests"
   ]
  },
  {
   "cell_type": "code",
   "execution_count": 300,
   "id": "8b4c96a2",
   "metadata": {},
   "outputs": [
    {
     "data": {
      "text/plain": [
       "True"
      ]
     },
     "execution_count": 300,
     "metadata": {},
     "output_type": "execute_result"
    }
   ],
   "source": [
    "parenthesage(\"((()())(()))\")"
   ]
  },
  {
   "cell_type": "code",
   "execution_count": 301,
   "id": "903fcdc5",
   "metadata": {},
   "outputs": [
    {
     "data": {
      "text/plain": [
       "False"
      ]
     },
     "execution_count": 301,
     "metadata": {},
     "output_type": "execute_result"
    }
   ],
   "source": [
    "parenthesage(\"())(()\")"
   ]
  },
  {
   "cell_type": "code",
   "execution_count": 302,
   "id": "a27175e5",
   "metadata": {},
   "outputs": [
    {
     "data": {
      "text/plain": [
       "False"
      ]
     },
     "execution_count": 302,
     "metadata": {},
     "output_type": "execute_result"
    }
   ],
   "source": [
    " parenthesage(\"(())(()\")"
   ]
  },
  {
   "cell_type": "markdown",
   "id": "cb5a8aac",
   "metadata": {},
   "source": [
    "---"
   ]
  },
  {
   "cell_type": "markdown",
   "id": "986fa7af",
   "metadata": {},
   "source": [
    "# Sujet 14"
   ]
  },
  {
   "cell_type": "markdown",
   "id": "35ad9216",
   "metadata": {},
   "source": [
    "## EXERCICE 1 (4 points)\n",
    "\n",
    "Écrire une fonction `recherche` qui prend en paramètres un nombre entier `elt` et un tableau `tab` de nombres entiers, et qui renvoie l’indice de la première occurrence de `elt` dans `tab` si `elt` est dans `tab` et `-1` sinon.\n",
    "\n",
    "Ne pas oublier d’ajouter au corps de la fonction une documentation et une ou plusieurs assertions pour vérifier les pré-conditions.\n",
    "\n",
    "### Exemples :\n",
    "```python\n",
    ">>> recherche(1, [2, 3, 4])\n",
    "-1\n",
    ">>> recherche(1, [10, 12, 1, 56])\n",
    "2\n",
    ">>> recherche(50, [1, 50, 1])\n",
    "1\n",
    ">>> recherche(15, [8, 9, 10, 15])\n",
    "3\n",
    ">>> recherche(50, [])\n",
    "-1\n",
    ">>> recherche(4, [2, 4, 4, 3, 4])\n",
    "1\n",
    "```"
   ]
  },
  {
   "cell_type": "markdown",
   "id": "880093ea",
   "metadata": {},
   "source": [
    "## Solution\n",
    "\n",
    "### Raisonnement par induction\n",
    "+ Partons de l'exemple `recherche(15, [10, 12, 1, 56])`\n",
    "+ On recupère l'élément 10 d'indice 0; il est différent de 15, donc on poursuit.\n",
    "+ On recupère l'élément 12 d'indice 1; il est différent de 15, donc on poursuit.\n",
    "+ On recupère l'élément 1 d'indice 2; il est égal à 15, donc on retourne 2.\n",
    "\n",
    "### Généralisation\n",
    "\n",
    "+ On parcourt la liste tab.\n",
    "+ Si le `i`-ième élément est égal à `elt`, alors on retourne l'indice `i`.\n",
    "+ Si on est sorti de la boucle de parcours, alors `elt` n'a pas été trouvé et on retourne `-1`.\n",
    "\n",
    "### Programmation"
   ]
  },
  {
   "cell_type": "code",
   "execution_count": 303,
   "id": "14d246f6",
   "metadata": {},
   "outputs": [],
   "source": [
    "def recherche(elt,tab):\n",
    "    \"\"\"\n",
    "    Cette fonction renvoie l’indice de la première occurrence de l'entier elt dans la liste tab\n",
    "    si elt est dans tab et -1 sinon.\n",
    "    \"\"\"\n",
    "    \n",
    "    assert isinstance(elt,int), \"elt n'est pas un entier.\"\n",
    "    assert isinstance(tab,list), \"tab n'est pas une liste.\"\n",
    "    \n",
    "    for i, valeur in enumerate(tab):\n",
    "        if elt == valeur:\n",
    "            return i\n",
    "    \n",
    "    return -1"
   ]
  },
  {
   "cell_type": "markdown",
   "id": "a359058e",
   "metadata": {},
   "source": [
    "### Tests"
   ]
  },
  {
   "cell_type": "code",
   "execution_count": 304,
   "id": "73adb5ef",
   "metadata": {},
   "outputs": [
    {
     "data": {
      "text/plain": [
       "-1"
      ]
     },
     "execution_count": 304,
     "metadata": {},
     "output_type": "execute_result"
    }
   ],
   "source": [
    "recherche(1, [2, 3, 4])"
   ]
  },
  {
   "cell_type": "code",
   "execution_count": 305,
   "id": "b5826500",
   "metadata": {},
   "outputs": [
    {
     "data": {
      "text/plain": [
       "2"
      ]
     },
     "execution_count": 305,
     "metadata": {},
     "output_type": "execute_result"
    }
   ],
   "source": [
    "recherche(1, [10, 12, 1, 56])"
   ]
  },
  {
   "cell_type": "code",
   "execution_count": 306,
   "id": "16c52bee",
   "metadata": {},
   "outputs": [
    {
     "data": {
      "text/plain": [
       "1"
      ]
     },
     "execution_count": 306,
     "metadata": {},
     "output_type": "execute_result"
    }
   ],
   "source": [
    "recherche(50, [1, 50, 1])"
   ]
  },
  {
   "cell_type": "code",
   "execution_count": 307,
   "id": "7838d5a1",
   "metadata": {},
   "outputs": [
    {
     "data": {
      "text/plain": [
       "3"
      ]
     },
     "execution_count": 307,
     "metadata": {},
     "output_type": "execute_result"
    }
   ],
   "source": [
    "recherche(15, [8, 9, 10, 15])"
   ]
  },
  {
   "cell_type": "code",
   "execution_count": 308,
   "id": "320a60d8",
   "metadata": {},
   "outputs": [
    {
     "data": {
      "text/plain": [
       "-1"
      ]
     },
     "execution_count": 308,
     "metadata": {},
     "output_type": "execute_result"
    }
   ],
   "source": [
    "recherche(50, [])"
   ]
  },
  {
   "cell_type": "code",
   "execution_count": 309,
   "id": "dba6f7fa",
   "metadata": {},
   "outputs": [
    {
     "data": {
      "text/plain": [
       "1"
      ]
     },
     "execution_count": 309,
     "metadata": {},
     "output_type": "execute_result"
    }
   ],
   "source": [
    "recherche(4, [2, 4, 4, 3, 4])"
   ]
  },
  {
   "cell_type": "markdown",
   "id": "d40008cc",
   "metadata": {},
   "source": [
    "### Remarque\n",
    "+ L’instruction `assert` de Python est une aide au débogage qui teste une condition. Si la condition est vraie, cela ne fait rien et votre programme continue simplement à s’exécuter. Mais si la condition d’assertion est fausse, elle lève une exception AssertionError avec un message d’erreur (facultatif).\n",
    "+ La syntaxe d'`assert` est `assert condition , message`.\n",
    "+ Au moment de l’exécution, l’interpréteur Python transforme chaque instruction `assert` en ce qui suit :\n",
    "```python\n",
    "if __debug__:\n",
    "    if not condition:\n",
    "        raise AssertionError(message)\n",
    "``` \n",
    "+ Dans le code précédent, l'instruction `enumerate(tab)` retourne à chaque appel l'indice et la valeur de l'élément suivant de `tab`.\n",
    "+ L'indice est récupéré dans la variable `i` de la boucle et la valeur dans la variable `valeur` de la boucle\n",
    "\n",
    "Comme d'habitude, la boucle `for` peut être remplacée par une boucle `while`. Voici le code :"
   ]
  },
  {
   "cell_type": "code",
   "execution_count": 310,
   "id": "3c770b26",
   "metadata": {},
   "outputs": [],
   "source": [
    "def recherche(elt,tab):\n",
    "    \"\"\"\n",
    "    Cette fonction renvoie l’indice de la première occurrence de l'entier elt dans la liste tab\n",
    "    si elt est dans tab et -1 sinon.\n",
    "    \"\"\"\n",
    "    \n",
    "    assert isinstance(elt,int), \"elt n'est pas un entier.\"\n",
    "    assert isinstance(tab,list), \"tab n'est pas une liste.\"\n",
    "\n",
    "    i = 0\n",
    "    while i < len(tab):\n",
    "        if elt == tab[i]:\n",
    "            return i       \n",
    "        i += 1\n",
    "    \n",
    "    return -1"
   ]
  },
  {
   "cell_type": "markdown",
   "id": "953d6916",
   "metadata": {},
   "source": [
    "### Tests"
   ]
  },
  {
   "cell_type": "code",
   "execution_count": 311,
   "id": "550c0e46",
   "metadata": {},
   "outputs": [
    {
     "data": {
      "text/plain": [
       "-1"
      ]
     },
     "execution_count": 311,
     "metadata": {},
     "output_type": "execute_result"
    }
   ],
   "source": [
    "recherche(1, [2, 3, 4])"
   ]
  },
  {
   "cell_type": "code",
   "execution_count": 312,
   "id": "3c37e677",
   "metadata": {},
   "outputs": [
    {
     "data": {
      "text/plain": [
       "2"
      ]
     },
     "execution_count": 312,
     "metadata": {},
     "output_type": "execute_result"
    }
   ],
   "source": [
    "recherche(1, [10, 12, 1, 56])"
   ]
  },
  {
   "cell_type": "code",
   "execution_count": 313,
   "id": "aa5f8d68",
   "metadata": {},
   "outputs": [
    {
     "data": {
      "text/plain": [
       "1"
      ]
     },
     "execution_count": 313,
     "metadata": {},
     "output_type": "execute_result"
    }
   ],
   "source": [
    "recherche(50, [1, 50, 1])"
   ]
  },
  {
   "cell_type": "code",
   "execution_count": 314,
   "id": "977784ae",
   "metadata": {},
   "outputs": [
    {
     "data": {
      "text/plain": [
       "3"
      ]
     },
     "execution_count": 314,
     "metadata": {},
     "output_type": "execute_result"
    }
   ],
   "source": [
    "recherche(15, [8, 9, 10, 15])"
   ]
  },
  {
   "cell_type": "code",
   "execution_count": 315,
   "id": "dcbc7516",
   "metadata": {},
   "outputs": [
    {
     "data": {
      "text/plain": [
       "-1"
      ]
     },
     "execution_count": 315,
     "metadata": {},
     "output_type": "execute_result"
    }
   ],
   "source": [
    "recherche(50, [])"
   ]
  },
  {
   "cell_type": "code",
   "execution_count": 316,
   "id": "95d03b25",
   "metadata": {},
   "outputs": [
    {
     "data": {
      "text/plain": [
       "1"
      ]
     },
     "execution_count": 316,
     "metadata": {},
     "output_type": "execute_result"
    }
   ],
   "source": [
    "recherche(4, [2, 4, 4, 3, 4])"
   ]
  },
  {
   "cell_type": "markdown",
   "id": "48a82d52",
   "metadata": {},
   "source": [
    "## EXERCICE 2 (4 points)\n",
    "On considère la fonction `insere` ci-dessous qui prend en arguments un entier `a` et un tableau `tab` d'entiers triés par ordre croissant. Cette fonction crée et renvoie un nouveau tableau à partir de celui fourni en paramètre en y insérant la valeur `a` de sorte que le tableau renvoyé soit encore trié par ordre croissant. Les tableaux seront représentés sous la forme de listes Python.\n",
    "\n",
    "```python\n",
    "def insere(a, tab):\n",
    "    \"\"\" Insère l'élément a (int) dans le tableau tab (list)\n",
    "    trié par ordre croissant à sa place et renvoie le\n",
    "    nouveau tableau. \"\"\"\n",
    "    l = list(tab) # l contient les mêmes éléments que tab\n",
    "    l.append(a)\n",
    "    i = ...\n",
    "    while a < ... and i >= 0:\n",
    "        l[i+1] = ...\n",
    "        l[i] = a\n",
    "        i = ...\n",
    "    return l\n",
    "```\n",
    "\n",
    "Compléter la fonction insere ci-dessus.\n",
    "\n",
    "### Exemples :\n",
    "```python\n",
    ">>> insere(3, [1, 2, 4, 5])\n",
    "[1, 2, 3, 4, 5]\n",
    ">>> insere(30, [1, 2, 7, 12, 14, 25])\n",
    "[1, 2, 7, 12, 14, 25, 30]\n",
    ">>> insere(1, [2, 3, 4])\n",
    "[1, 2, 3, 4]\n",
    ">>> insere(1, [])\n",
    "[1]\n",
    "```"
   ]
  },
  {
   "cell_type": "markdown",
   "id": "cf48feca",
   "metadata": {},
   "source": [
    "## Solution"
   ]
  },
  {
   "cell_type": "code",
   "execution_count": 317,
   "id": "629bd6b9",
   "metadata": {},
   "outputs": [],
   "source": [
    "def insere(a, tab):\n",
    "    \"\"\" Insère l'élément a (int) dans le tableau tab (list)\n",
    "    trié par ordre croissant à sa place et renvoie le\n",
    "    nouveau tableau. \"\"\"\n",
    "    l = list(tab) # l contient les mêmes éléments que tab\n",
    "    l.append(a)\n",
    "    i = len(l) - 2\n",
    "    while a < l[i] and i >= 0:\n",
    "        l[i+1] = l[i]\n",
    "        l[i] = a\n",
    "        i = i - 1\n",
    "    return l"
   ]
  },
  {
   "cell_type": "markdown",
   "id": "d55baadd",
   "metadata": {},
   "source": [
    "## Tests"
   ]
  },
  {
   "cell_type": "code",
   "execution_count": 318,
   "id": "d69e584c",
   "metadata": {},
   "outputs": [
    {
     "data": {
      "text/plain": [
       "[1, 2, 3, 4, 5]"
      ]
     },
     "execution_count": 318,
     "metadata": {},
     "output_type": "execute_result"
    }
   ],
   "source": [
    "insere(3, [1, 2, 4, 5])"
   ]
  },
  {
   "cell_type": "code",
   "execution_count": 319,
   "id": "95bf739f",
   "metadata": {},
   "outputs": [
    {
     "data": {
      "text/plain": [
       "[1, 2, 7, 12, 14, 25, 30]"
      ]
     },
     "execution_count": 319,
     "metadata": {},
     "output_type": "execute_result"
    }
   ],
   "source": [
    "insere(30, [1, 2, 7, 12, 14, 25])"
   ]
  },
  {
   "cell_type": "code",
   "execution_count": 320,
   "id": "57b96d6a",
   "metadata": {},
   "outputs": [
    {
     "data": {
      "text/plain": [
       "[1, 2, 3, 4]"
      ]
     },
     "execution_count": 320,
     "metadata": {},
     "output_type": "execute_result"
    }
   ],
   "source": [
    "insere(1, [2, 3, 4])"
   ]
  },
  {
   "cell_type": "markdown",
   "id": "a604ac5c",
   "metadata": {},
   "source": [
    "---"
   ]
  },
  {
   "cell_type": "markdown",
   "id": "d496deb5",
   "metadata": {},
   "source": [
    "# Sujet 15"
   ]
  },
  {
   "cell_type": "markdown",
   "id": "84ebd828",
   "metadata": {},
   "source": [
    "## EXERCICE 1 (4 points)\n",
    "On a relevé les valeurs moyennes annuelles des températures à Paris pour la période allant de 2013 à 2019. Les résultats ont été récupérés sous la forme de deux listes : l’une pour les températures, l’autre pour les années :\n",
    "\n",
    "```python\n",
    "t_moy = [14.9, 13.3, 13.1, 12.5, 13.0, 13.6, 13.7]\n",
    "annees = [2013, 2014, 2015, 2016, 2017, 2018, 2019]\n",
    "```\n",
    "\n",
    "Écrire la fonction `mini` qui prend en paramètres un tableau `releve` des relevés et un tableau `date` des dates et qui renvoie la plus petite valeur relevée au cours de la période et l’année correspondante. On suppose que la température minimale est atteinte une seule fois.\n",
    "\n",
    "### Exemple :\n",
    "```python\n",
    ">>> mini(t_moy, annees)\n",
    "(12.5, 2016)\n",
    "```"
   ]
  },
  {
   "cell_type": "code",
   "execution_count": 321,
   "id": "2bdeb35b",
   "metadata": {},
   "outputs": [],
   "source": [
    "def mini(releve,date):\n",
    "    minimum = releve[0]\n",
    "    index = 0\n",
    "    \n",
    "    for i, valeur in enumerate(releve):\n",
    "        if valeur < minimum :\n",
    "            minimum = valeur\n",
    "            index = i\n",
    "            \n",
    "    return (minimum,date[index])"
   ]
  },
  {
   "cell_type": "markdown",
   "id": "424f9c24",
   "metadata": {},
   "source": [
    "### Test"
   ]
  },
  {
   "cell_type": "code",
   "execution_count": 322,
   "id": "2f2d6d68",
   "metadata": {},
   "outputs": [],
   "source": [
    "t_moy = [14.9, 13.3, 13.1, 12.5, 13.0, 13.6, 13.7]\n",
    "annees = [2013, 2014, 2015, 2016, 2017, 2018, 2019]"
   ]
  },
  {
   "cell_type": "code",
   "execution_count": 323,
   "id": "cd98e344",
   "metadata": {},
   "outputs": [
    {
     "data": {
      "text/plain": [
       "(12.5, 2016)"
      ]
     },
     "execution_count": 323,
     "metadata": {},
     "output_type": "execute_result"
    }
   ],
   "source": [
    "mini(t_moy, annees)"
   ]
  },
  {
   "cell_type": "markdown",
   "id": "cc8e811c",
   "metadata": {},
   "source": [
    "### Remarque\n",
    "Comme d'habitude, la boucle `for` peut être remplacée par une boucle `while` :"
   ]
  },
  {
   "cell_type": "code",
   "execution_count": 324,
   "id": "cc8a78d7",
   "metadata": {},
   "outputs": [],
   "source": [
    "def mini(releve,date):\n",
    "    minimum = releve[0]\n",
    "    index = 0\n",
    "    \n",
    "    i = 1\n",
    "    while i < len(releve): \n",
    "        if releve[i] < minimum :\n",
    "            minimum = releve[i]\n",
    "            index = i\n",
    "        i += 1\n",
    "            \n",
    "    return (minimum,date[index])\n",
    "            "
   ]
  },
  {
   "cell_type": "markdown",
   "id": "05278ae2",
   "metadata": {},
   "source": [
    "### Test"
   ]
  },
  {
   "cell_type": "code",
   "execution_count": 325,
   "id": "efe5c641",
   "metadata": {},
   "outputs": [
    {
     "data": {
      "text/plain": [
       "(12.5, 2016)"
      ]
     },
     "execution_count": 325,
     "metadata": {},
     "output_type": "execute_result"
    }
   ],
   "source": [
    "mini(t_moy, annees)"
   ]
  },
  {
   "cell_type": "markdown",
   "id": "6d532a57",
   "metadata": {},
   "source": [
    "## EXERCICE 2 (4 points)\n",
    "Un mot palindrome peut se lire de la même façon de gauche à droite ou de droite à gauche : bob, radar, et non sont des mots palindromes.\n",
    "\n",
    "De même certains nombres sont eux aussi des palindromes : 33, 121, 345543.\n",
    "\n",
    "L’objectif de cet exercice est d’obtenir un programme Python permettant de tester si un nombre est un nombre palindrome.\n",
    "\n",
    "Pour remplir cette tâche, on vous demande de compléter le code des trois fonctions ci-dessous sachant que la fonction `est_nbre_palindrome` s’appuiera sur la fonction `est_palindrome` qui elle-même s’appuiera sur la fonction `inverse_chaine`.\n",
    "\n",
    "La fonction `inverse_chaine` inverse l'ordre des caractères d'une chaîne de caractères `chaine` et renvoie la chaîne inversée.\n",
    "\n",
    "La fonction `est_palindrome` teste si une chaine de caractères `chaine` est un palindrome. Elle renvoie `True` si c’est le cas et `False` sinon. Cette fonction s’appuie sur la fonction précédente.\n",
    "\n",
    "La fonction `est_nbre_palindrome` teste si un nombre `nbre` est un palindrome. Elle renvoie `True` si c’est le cas et `False` sinon. Cette fonction s’appuie sur la fonction précédente.\n",
    "\n",
    "Compléter le code des trois fonctions ci-dessous.\n",
    "\n",
    "``` python\n",
    "def inverse_chaine(chaine):\n",
    "    result = ...\n",
    "    for caractere in chaine:\n",
    "        result = ...\n",
    "    return result\n",
    "\n",
    "def est_palindrome(chaine):\n",
    "    inverse = inverse_chaine(chaine)\n",
    "    return ...\n",
    "\n",
    "def est_nbre_palindrome(nbre):\n",
    "    chaine = ...\n",
    "    return est_palindrome(chaine)\n",
    "```\n",
    "\n",
    "### Exemples :\n",
    "\n",
    "```python\n",
    ">>> inverse_chaine('bac')\n",
    "'cab'\n",
    ">>> est_palindrome('NSI')\n",
    "False\n",
    ">>> est_palindrome('ISN-NSI')\n",
    "True\n",
    ">>>est_nbre_palindrome(214312)\n",
    "False\n",
    ">>>est_nbre_palindrome(213312)\n",
    "True\n",
    "```"
   ]
  },
  {
   "cell_type": "markdown",
   "id": "2d401b45",
   "metadata": {},
   "source": [
    "## Solution"
   ]
  },
  {
   "cell_type": "code",
   "execution_count": 326,
   "id": "ea61ea42",
   "metadata": {},
   "outputs": [],
   "source": [
    "def inverse_chaine(chaine):\n",
    "    result = \"\"\n",
    "    for caractere in chaine:\n",
    "        result = caractere + result\n",
    "    return result\n",
    "\n",
    "def est_palindrome(chaine):\n",
    "    inverse = inverse_chaine(chaine)\n",
    "    return chaine == inverse\n",
    "\n",
    "def est_nbre_palindrome(nbre):\n",
    "    chaine = str(nbre)\n",
    "    return est_palindrome(chaine)"
   ]
  },
  {
   "cell_type": "markdown",
   "id": "7d304d78",
   "metadata": {},
   "source": [
    "---"
   ]
  },
  {
   "cell_type": "markdown",
   "id": "8636a7e1",
   "metadata": {},
   "source": [
    "# Sujet 16"
   ]
  },
  {
   "cell_type": "markdown",
   "id": "22874583",
   "metadata": {},
   "source": [
    "## EXERCICE 1 (4 points)\n",
    "Écrire une fonction `recherche_indices_classement` qui prend en paramètres un entier `elt` et une liste d’entiers `tab`, et qui renvoie trois listes :\n",
    "+ la première liste contient les indices des valeurs de la liste `tab` strictement inférieures à `elt`;\n",
    "+ la deuxième liste contient les indices des valeurs de la liste `tab` égales à `elt`;\n",
    "+ la troisième liste contient les indices des valeurs de la liste `tab` strictement supérieures à `elt`.\n",
    "\n",
    "### Exemples :\n",
    "\n",
    "```python\n",
    ">>> recherche_indices_classement(3, [1, 3, 4, 2, 4, 6, 3, 0])\n",
    "([0, 3, 7], [1, 6], [2, 4, 5])\n",
    ">>> recherche_indices_classement(3, [1, 4, 2, 4, 6, 0])\n",
    "([0, 2, 5], [], [1, 3, 4])\n",
    ">>> recherche_indices_classement(3, [1, 1, 1, 1])\n",
    "([0, 1, 2, 3], [], [])\n",
    ">>> recherche_indices_classement(3, [])\n",
    "([], [], [])\n",
    "```"
   ]
  },
  {
   "cell_type": "markdown",
   "id": "cd5df073",
   "metadata": {},
   "source": [
    "### Programmation\n",
    "Ici ce n'est pas très difficile;\n",
    "+ On crée trois liste `inf`, `egal` et `sup` qui contiendront respectivement les indices des valeurs de la liste `tab` strictement inférieures à `elt`, les indices des valeurs de la liste `tab` égales à `elt` et les indices des valeurs de la liste `tab` strictement supérieures à `elt`.\n",
    "+ On parcourt la liste `tab`.\n",
    "+ On compare à chaque itération avec `elt`; Suivant le résultat de la comparaison, on avec l'indice de `elt`dans la bonne liste.\n",
    "+ On retourne les trois listes.\n",
    "\n",
    "Voici  le programme:"
   ]
  },
  {
   "cell_type": "code",
   "execution_count": 327,
   "id": "cb34d21f",
   "metadata": {},
   "outputs": [],
   "source": [
    "def recherche_indices_classement(elt,tab):\n",
    "    inf = []\n",
    "    egal = []\n",
    "    sup = []\n",
    "    for i, valeur in enumerate(tab):\n",
    "        if valeur < elt:\n",
    "            inf.append(i)\n",
    "        elif valeur == elt:\n",
    "            egal.append(i)\n",
    "        else:\n",
    "            sup.append(i)\n",
    "    return (inf,egal,sup)"
   ]
  },
  {
   "cell_type": "markdown",
   "id": "83280f1b",
   "metadata": {},
   "source": [
    "### Tests "
   ]
  },
  {
   "cell_type": "code",
   "execution_count": 328,
   "id": "e3f42a6a",
   "metadata": {},
   "outputs": [
    {
     "data": {
      "text/plain": [
       "([0, 3, 7], [1, 6], [2, 4, 5])"
      ]
     },
     "execution_count": 328,
     "metadata": {},
     "output_type": "execute_result"
    }
   ],
   "source": [
    "recherche_indices_classement(3, [1, 3, 4, 2, 4, 6, 3, 0])"
   ]
  },
  {
   "cell_type": "code",
   "execution_count": 329,
   "id": "101a02aa",
   "metadata": {},
   "outputs": [
    {
     "data": {
      "text/plain": [
       "([0, 2, 5], [], [1, 3, 4])"
      ]
     },
     "execution_count": 329,
     "metadata": {},
     "output_type": "execute_result"
    }
   ],
   "source": [
    "recherche_indices_classement(3, [1, 4, 2, 4, 6, 0])"
   ]
  },
  {
   "cell_type": "code",
   "execution_count": 330,
   "id": "20d1e3a2",
   "metadata": {},
   "outputs": [
    {
     "data": {
      "text/plain": [
       "([0, 1, 2, 3], [], [])"
      ]
     },
     "execution_count": 330,
     "metadata": {},
     "output_type": "execute_result"
    }
   ],
   "source": [
    "recherche_indices_classement(3, [1, 1, 1, 1])"
   ]
  },
  {
   "cell_type": "code",
   "execution_count": 331,
   "id": "b9542026",
   "metadata": {},
   "outputs": [
    {
     "data": {
      "text/plain": [
       "([], [], [])"
      ]
     },
     "execution_count": 331,
     "metadata": {},
     "output_type": "execute_result"
    }
   ],
   "source": [
    "recherche_indices_classement(3, [])"
   ]
  },
  {
   "cell_type": "markdown",
   "id": "4c1cfaca",
   "metadata": {},
   "source": [
    "### Remarque\n",
    "Comme d'habitude, on peut remplacer la boucle `for` par une boucle `while`:"
   ]
  },
  {
   "cell_type": "code",
   "execution_count": 332,
   "id": "a19fff3d",
   "metadata": {},
   "outputs": [],
   "source": [
    "def recherche_indices_classement(elt,tab):\n",
    "    inf = []\n",
    "    egal = []\n",
    "    sup = []\n",
    "    \n",
    "    i = 0\n",
    "    while i < len(tab):\n",
    "        if tab[i] < elt:\n",
    "            inf.append(i)\n",
    "        elif tab[i] == elt:\n",
    "            egal.append(i)\n",
    "        else:\n",
    "            sup.append(i)\n",
    "        i += 1\n",
    "    return (inf,egal,sup)"
   ]
  },
  {
   "cell_type": "markdown",
   "id": "6be790c3",
   "metadata": {},
   "source": [
    "### Tests"
   ]
  },
  {
   "cell_type": "code",
   "execution_count": 333,
   "id": "0afa036f",
   "metadata": {},
   "outputs": [
    {
     "data": {
      "text/plain": [
       "([0, 3, 7], [1, 6], [2, 4, 5])"
      ]
     },
     "execution_count": 333,
     "metadata": {},
     "output_type": "execute_result"
    }
   ],
   "source": [
    "recherche_indices_classement(3, [1, 3, 4, 2, 4, 6, 3, 0])"
   ]
  },
  {
   "cell_type": "code",
   "execution_count": 334,
   "id": "575290fe",
   "metadata": {},
   "outputs": [
    {
     "data": {
      "text/plain": [
       "([0, 2, 5], [], [1, 3, 4])"
      ]
     },
     "execution_count": 334,
     "metadata": {},
     "output_type": "execute_result"
    }
   ],
   "source": [
    "recherche_indices_classement(3, [1, 4, 2, 4, 6, 0])"
   ]
  },
  {
   "cell_type": "code",
   "execution_count": 335,
   "id": "4fefcada",
   "metadata": {},
   "outputs": [
    {
     "data": {
      "text/plain": [
       "([0, 1, 2, 3], [], [])"
      ]
     },
     "execution_count": 335,
     "metadata": {},
     "output_type": "execute_result"
    }
   ],
   "source": [
    "recherche_indices_classement(3, [1, 1, 1, 1])"
   ]
  },
  {
   "cell_type": "code",
   "execution_count": 336,
   "id": "9948339d",
   "metadata": {},
   "outputs": [
    {
     "data": {
      "text/plain": [
       "([], [], [])"
      ]
     },
     "execution_count": 336,
     "metadata": {},
     "output_type": "execute_result"
    }
   ],
   "source": [
    "recherche_indices_classement(3, [])"
   ]
  },
  {
   "cell_type": "markdown",
   "id": "2955b216",
   "metadata": {},
   "source": [
    "## EXERCICE 2 (4 points)\n",
    "Un professeur de NSI décide de gérer les résultats de sa classe sous la forme d’un dictionnaire :\n",
    "+ les clefs sont les noms des élèves ;\n",
    "+ les valeurs sont des dictionnaires dont les clefs sont les types d’épreuves sous forme de chaîne de caractères et les valeurs sont les notes obtenues associées à leurs coefficients dans une liste.\n",
    "\n",
    "Avec :\n",
    "```python\n",
    "resultats = {'Dupont': {\n",
    "                        'DS1': [15.5, 4],\n",
    "                        'DM1': [14.5, 1],\n",
    "                        'DS2': [13, 4],\n",
    "                        'PROJET1': [16, 3],\n",
    "                        'DS3': [14, 4]\n",
    "                       },\n",
    "             'Durand': {\n",
    "                        'DS1': [6 , 4],\n",
    "                        'DM1': [14.5, 1],\n",
    "                        'DS2': [8, 4],\n",
    "                        'PROJET1': [9, 3],\n",
    "                        'IE1': [7, 2],\n",
    "                        'DS3': [8, 4],\n",
    "                        'DS4':[15, 4]\n",
    "                       }\n",
    "            }\n",
    "``` \n",
    "\n",
    "L’élève dont le nom est Durand a ainsi obtenu au DS2 la note de 8 avec un coefficient 4.\n",
    "\n",
    "Le professeur crée une fonction moyenne qui prend en paramètre le nom d’un de ses élèves et renvoie sa moyenne arrondie au dixième.\n",
    "\n",
    "Compléter le code du professeur ci-dessous :\n",
    "```python\n",
    "def moyenne(nom, dico_result):\n",
    "    if nom in ...:\n",
    "        notes = dico_result[nom]\n",
    "        total_points = ...\n",
    "        total_coefficients = ...\n",
    "    for ... in notes.values():\n",
    "        note, coefficient = valeur`\n",
    "        total_points = total_points + ... * coefficient\n",
    "        total_coefficients = ... + coefficient\n",
    "    return round( ... / total_coefficients, 1 )\n",
    "    else:\n",
    "        return -1\n",
    "```"
   ]
  },
  {
   "cell_type": "markdown",
   "id": "03c68e34",
   "metadata": {},
   "source": [
    "## Solution"
   ]
  },
  {
   "cell_type": "code",
   "execution_count": 337,
   "id": "f27f5b1e",
   "metadata": {},
   "outputs": [],
   "source": [
    "def moyenne(nom, dico_result):\n",
    "    if nom in dico_result:\n",
    "        notes = dico_result[nom]\n",
    "        total_points = 0\n",
    "        total_coefficients = 0\n",
    "        for valeur in notes.values():\n",
    "            note, coefficient = valeur\n",
    "            total_points = total_points + note * coefficient\n",
    "            total_coefficients = total_coefficients + coefficient\n",
    "        return round( total_points / total_coefficients, 1 )\n",
    "    else:\n",
    "        return -1"
   ]
  },
  {
   "cell_type": "markdown",
   "id": "6d7d4caf",
   "metadata": {},
   "source": [
    "### Test"
   ]
  },
  {
   "cell_type": "code",
   "execution_count": 338,
   "id": "e721e049",
   "metadata": {},
   "outputs": [],
   "source": [
    "resultats = {'Dupont': {\n",
    "                        'DS1': [15.5, 4],\n",
    "                        'DM1': [14.5, 1],\n",
    "                        'DS2': [13, 4],\n",
    "                        'PROJET1': [16, 3],\n",
    "                        'DS3': [14, 4]\n",
    "                       },\n",
    "             'Durand': {\n",
    "                        'DS1': [6 , 4],\n",
    "                        'DM1': [14.5, 1],\n",
    "                        'DS2': [8, 4],\n",
    "                        'PROJET1': [9, 3],\n",
    "                        'IE1': [7, 2],\n",
    "                        'DS3': [8, 4],\n",
    "                        'DS4':[15, 4]\n",
    "                       }\n",
    "            }"
   ]
  },
  {
   "cell_type": "code",
   "execution_count": 339,
   "id": "87029fa1",
   "metadata": {},
   "outputs": [
    {
     "data": {
      "text/plain": [
       "9.2"
      ]
     },
     "execution_count": 339,
     "metadata": {},
     "output_type": "execute_result"
    }
   ],
   "source": [
    "moyenne(\"Durand\",resultats)"
   ]
  },
  {
   "cell_type": "markdown",
   "id": "fe46c339",
   "metadata": {},
   "source": [
    "Si on fait le calcul à la main, on trouve :"
   ]
  },
  {
   "cell_type": "code",
   "execution_count": 340,
   "id": "c7597407",
   "metadata": {},
   "outputs": [
    {
     "data": {
      "text/plain": [
       "9.25"
      ]
     },
     "execution_count": 340,
     "metadata": {},
     "output_type": "execute_result"
    }
   ],
   "source": [
    "(6*4+14.5*1+8*4+9*3+7*2+8*4+15*4)/(4+1+4+3+2+4+4)"
   ]
  },
  {
   "cell_type": "markdown",
   "id": "166a5aa1",
   "metadata": {},
   "source": [
    "Cela correspond bien à l'arrondi au dixième près du test."
   ]
  },
  {
   "cell_type": "markdown",
   "id": "609fb7d0",
   "metadata": {},
   "source": [
    "---"
   ]
  },
  {
   "cell_type": "markdown",
   "id": "7a10615c",
   "metadata": {},
   "source": [
    "# Sujet 36"
   ]
  },
  {
   "cell_type": "markdown",
   "id": "87c42a0a",
   "metadata": {},
   "source": [
    "## EXERCICE 1 (4 points)\n",
    "Écrire une fonction `couples_consecutifs` qui prend en paramètre une liste de nombres entiers `tab` non vide, et qui renvoie la liste (éventuellement vide) des couples d'entiers consécutifs successifs qu'il peut y avoir dans `tab`.\n",
    "\n",
    "Ne pas oublier d’ajouter au corps de la fonction une documentation et une ou plusieurs assertions pour vérifier les pré-conditions.\n",
    "\n",
    "### Exemples :\n",
    "```python\n",
    ">>> couples_consecutifs([1, 4, 3, 5])\n",
    "[]\n",
    ">>> couples_consecutifs([1, 4, 5, 3])\n",
    "[(4, 5)]\n",
    ">>> couples_consecutifs([1, 1, 2, 4])\n",
    "[(1, 2)]\n",
    ">>> couples_consecutifs([7, 1, 2, 5, 3, 4])\n",
    "[(1, 2), (3, 4)]\n",
    ">>> couples_consecutifs ([5, 1, 2, 3, 8, -5, -4, 7])\n",
    "[(1, 2), (2, 3), (-5, -4)]\n",
    "```"
   ]
  },
  {
   "cell_type": "markdown",
   "id": "1ea2198d",
   "metadata": {},
   "source": [
    "## Solution\n",
    "### Raisonnement par induction\n",
    "+ Partons de l'exemple `couples_consecutifs ([5, 1, 2, 3, 8, -5, -4, 7])`\n",
    "+ On récupère 5 l'élément d'indice 0. On le compare avec 1 l'élément d'indice 1. Il ne sont pas consécutifs.  On poursuit.\n",
    "+ On récupère 1 l'élément d'indice 1. On le compare avec 2 l'élément d'indice 2. Il sont consécutifs. On ajoute le couple (1,2) dans une liste résultat.\n",
    "+ On récupère 2 l'élément d'indice 2. On le compare avec 3 l'élément d'indice 3. Il sont consécutifs. On ajoute le couple (2,3) dans une liste résultat.\n",
    "+ On récupère 3 l'élément d'indice 3. On le compare avec 8 l'élément d'indice 4. Il ne sont  pas consécutifs. On poursuit.\n",
    "+ On récupère 8 l'élément d'indice 4. On le compare avec -5 l'élément d'indice 5. Il ne sont  pas consécutifs. On poursuit.\n",
    "+ On récupère -5 l'élément d'indice 5. On le compare avec -4 l'élément d'indice 6. Il sont consécutifs. On ajoute le couple (-5,-4) dans une liste résultat.\n",
    "+ On récupère -4 l'élément d'indice 6. On le compare avec 7 l'élément d'indice 7. \n",
    "+ On retourne le liste résultat.\n",
    "\n",
    "On remarquera qu'on parcours la liste jusqu'à son avant-dernier élément.\n",
    "\n",
    "### Généralisation\n",
    "+ On crée une liste `result` vide destinée à recevoir les couples;\n",
    "+ On parcours la liste `tab` du premier à l'avant-dernier élément;\n",
    "+ À chaque itération, on compare l'élément courrant de `tab` avec le suivant; S'ils sont consécutifs, alors on ajoute le couple `(élément courrant, élément suivant)` dans la liste `result`;\n",
    "+ On retourne la liste `result`;\n",
    "\n",
    "### Programmation"
   ]
  },
  {
   "cell_type": "code",
   "execution_count": 341,
   "id": "ef4da4ff",
   "metadata": {},
   "outputs": [],
   "source": [
    "def couples_consecutifs(tab):\n",
    "    \"\"\"\n",
    "     Cette fonction renvoie la liste (éventuellement vide) des couples d'entiers consécutifs successifs\n",
    "     qu'il peut y avoir dans la liste tab passée en argument.\n",
    "    \"\"\"\n",
    "    result = []\n",
    "    \n",
    "    i = 0\n",
    "    while i < len(tab) - 1:\n",
    "        if tab[i] + 1 == tab[i+1]:\n",
    "            result.append( (tab[i],tab[i+1]) )\n",
    "        i += 1\n",
    "        \n",
    "    return result"
   ]
  },
  {
   "cell_type": "markdown",
   "id": "f1dbd7b1",
   "metadata": {},
   "source": [
    "## Tests"
   ]
  },
  {
   "cell_type": "code",
   "execution_count": 342,
   "id": "3b5823d0",
   "metadata": {},
   "outputs": [
    {
     "data": {
      "text/plain": [
       "[]"
      ]
     },
     "execution_count": 342,
     "metadata": {},
     "output_type": "execute_result"
    }
   ],
   "source": [
    "couples_consecutifs([1, 4, 3, 5])"
   ]
  },
  {
   "cell_type": "code",
   "execution_count": 343,
   "id": "59923008",
   "metadata": {},
   "outputs": [
    {
     "data": {
      "text/plain": [
       "[(4, 5)]"
      ]
     },
     "execution_count": 343,
     "metadata": {},
     "output_type": "execute_result"
    }
   ],
   "source": [
    "couples_consecutifs([1, 4, 5, 3])"
   ]
  },
  {
   "cell_type": "code",
   "execution_count": 344,
   "id": "aeef426c",
   "metadata": {},
   "outputs": [
    {
     "data": {
      "text/plain": [
       "[(1, 2)]"
      ]
     },
     "execution_count": 344,
     "metadata": {},
     "output_type": "execute_result"
    }
   ],
   "source": [
    "couples_consecutifs([1, 1, 2, 4])"
   ]
  },
  {
   "cell_type": "code",
   "execution_count": 345,
   "id": "3a72121b",
   "metadata": {},
   "outputs": [
    {
     "data": {
      "text/plain": [
       "[(1, 2), (3, 4)]"
      ]
     },
     "execution_count": 345,
     "metadata": {},
     "output_type": "execute_result"
    }
   ],
   "source": [
    "couples_consecutifs([7, 1, 2, 5, 3, 4])"
   ]
  },
  {
   "cell_type": "code",
   "execution_count": 346,
   "id": "31f2d2cd",
   "metadata": {},
   "outputs": [
    {
     "data": {
      "text/plain": [
       "[(1, 2), (2, 3), (-5, -4)]"
      ]
     },
     "execution_count": 346,
     "metadata": {},
     "output_type": "execute_result"
    }
   ],
   "source": [
    "couples_consecutifs ([5, 1, 2, 3, 8, -5, -4, 7])"
   ]
  },
  {
   "cell_type": "markdown",
   "id": "c9b425ea",
   "metadata": {},
   "source": [
    "## EXERCICE 2 (4 points)\n",
    "Soit une image binaire représentée dans un tableau à 2 dimensions. Les éléments `M[i][j]`, appelés pixels, sont égaux soit à 0 soit à 1.\n",
    "\n",
    "Une composante d’une image est un sous-ensemble de l’image constitué de pixels de même valeur (soit 1, soit 0) qui sont côte à côte, soit horizontalement soit verticalement.\n",
    "\n",
    "Par exemple, les composantes de\n",
    "\n",
    "![Matrice M](23-NSI-36-000.png)\n",
    "\n",
    "sont\n",
    "\n",
    "![Composantes de la matrice M](23-NSI-36-001.png)\n",
    "\n",
    "On souhaite, à partir d’un pixel égal à 1 dans une image `M`, donner la valeur `val` à tous les pixels de la composante à laquelle appartient ce pixel.\n",
    "\n",
    "La fonction `propager` prend pour paramètre une image `M` (représentée par une liste de listes), deux entiers `i` et `j` et une valeur entière `val`. Elle met à la valeur `val` tous les pixels de la composante du pixel `M[i][j]` s’il vaut 1 et ne fait rien s’il vaut 0.\n",
    "\n",
    "Par exemple, `propager(M,2,1,3)` donne\n",
    "\n",
    "![Composantes de la matrice M après propagation](23-NSI-36-002.png)\n",
    "\n",
    "Compléter le code récursif de la fonction `propager` donnée ci-dessous\n",
    "```python\n",
    "def propager(M, i, j, val):\n",
    "    if M[i][j] == ...:\n",
    "        M[i][j] = val\n",
    "\n",
    "    # l'élément en haut fait partie de la composante\n",
    "    if i-1 >= 0 and M[i-1][j] == ...:\n",
    "        propager(M, i-1, j, val)\n",
    "\n",
    "    # l'élément en bas fait partie de la composante\n",
    "    if ... < len(M) and M[i+1][j] == 1:\n",
    "        propager(M, ..., j, val)\n",
    "\n",
    "    # l'élément à gauche fait partie de la composante\n",
    "    if ... and M[i][j-1] == 1:\n",
    "        propager(M, ..., ..., val)\n",
    "\n",
    "    # l'élément à droite fait partie de la composante\n",
    "    if ... and ...:\n",
    "        propager(..., ..., ..., ...)\n",
    "```\n",
    "\n",
    "#### Exemple :\n",
    "```python\n",
    ">>> M = [[0, 0, 1, 0], [0, 1, 0, 1], [1, 1, 1, 0], [0, 1, 1, 0]]\n",
    ">>> propager(M, 2, 1, 3)\n",
    ">>> M\n",
    "[[0, 0, 1, 0], [0, 3, 0, 1], [3, 3, 3, 0], [0, 3, 3, 0]]\n",
    "```"
   ]
  },
  {
   "cell_type": "code",
   "execution_count": 347,
   "id": "46f6b642",
   "metadata": {},
   "outputs": [],
   "source": [
    "def propager(M, i, j, val):\n",
    "    if M[i][j] == 1:\n",
    "        M[i][j] = val\n",
    "\n",
    "    # l'élément en haut fait partie de la composante\n",
    "    if i-1 >= 0 and M[i-1][j] == 1:\n",
    "        propager(M, i-1, j, val)\n",
    "\n",
    "    # l'élément en bas fait partie de la composante\n",
    "    if i+1 < len(M) and M[i+1][j] == 1:\n",
    "        propager(M, i+1, j, val)\n",
    "\n",
    "    # l'élément à gauche fait partie de la composante\n",
    "    if j-1 <= 0 and M[i][j-1] == 1:\n",
    "        propager(M, i, j-1, val)\n",
    "\n",
    "    # l'élément à droite fait partie de la composante\n",
    "    if j+1 < len(M[0]) and M[i][j+1] == 1:\n",
    "        propager(M, i, j+1, val)"
   ]
  },
  {
   "cell_type": "markdown",
   "id": "00231126",
   "metadata": {},
   "source": [
    "### Tests"
   ]
  },
  {
   "cell_type": "code",
   "execution_count": 348,
   "id": "459209fc",
   "metadata": {},
   "outputs": [],
   "source": [
    " M = [[0, 0, 1, 0], [0, 1, 0, 1], [1, 1, 1, 0], [0, 1, 1, 0]]"
   ]
  },
  {
   "cell_type": "code",
   "execution_count": 349,
   "id": "3593caf9",
   "metadata": {},
   "outputs": [],
   "source": [
    " propager(M, 2, 1, 3)"
   ]
  },
  {
   "cell_type": "code",
   "execution_count": 350,
   "id": "095c4966",
   "metadata": {},
   "outputs": [
    {
     "data": {
      "text/plain": [
       "[[0, 0, 1, 0], [0, 3, 0, 1], [3, 3, 3, 0], [0, 3, 3, 0]]"
      ]
     },
     "execution_count": 350,
     "metadata": {},
     "output_type": "execute_result"
    }
   ],
   "source": [
    "M"
   ]
  },
  {
   "cell_type": "markdown",
   "id": "23363e0e",
   "metadata": {},
   "source": [
    "### Remarque\n",
    "+ les premières conditions avant le `and` de chaque instruction conditionnelle permettent de s'assurer que l'appel récursif suivant concerne un élément du tableau (qu'on n'est pas hors du tableau)."
   ]
  },
  {
   "cell_type": "markdown",
   "id": "7a9770d1",
   "metadata": {},
   "source": [
    "---"
   ]
  },
  {
   "cell_type": "markdown",
   "id": "d15b0220",
   "metadata": {},
   "source": [
    "# Sujet 37"
   ]
  },
  {
   "cell_type": "markdown",
   "id": "9483b331",
   "metadata": {},
   "source": [
    "## EXERCICE 1 (4 points)\n",
    "Écrire une fonction `recherche` qui prend en paramètres `elt` un nombre et `tab` un tableau de nombres, et qui renvoie l’indice de la dernière occurrence de `elt` dans `tab` si `elt` est dans `tab` et renvoie -1 sinon.\n",
    "\n",
    "### Exemples :\n",
    "```python\n",
    ">>> recherche(1, [2, 3, 4])\n",
    "-1\n",
    ">>> recherche(1, [10, 12, 1, 56])\n",
    "2\n",
    ">>> recherche(1, [1, 0, 42, 7])\n",
    "0\n",
    ">>> recherche(1, [1, 50, 1])\n",
    "2\n",
    ">>> recherche(1, [8, 1, 10, 1, 7, 1, 8])\n",
    "5\n",
    "```"
   ]
  },
  {
   "cell_type": "markdown",
   "id": "1d8d224c",
   "metadata": {},
   "source": [
    "## Solution\n",
    "On a déjà programmé un algorithme semblable. Donc voici directement le programme :"
   ]
  },
  {
   "cell_type": "code",
   "execution_count": 351,
   "id": "89900b77",
   "metadata": {},
   "outputs": [],
   "source": [
    "def recherche(elt,tab):    \n",
    "    i = len(tab) - 1\n",
    "    while i >= 0:\n",
    "        if tab[i] == elt:\n",
    "            return i\n",
    "        i -= 1\n",
    "        \n",
    "    return -1"
   ]
  },
  {
   "cell_type": "code",
   "execution_count": 352,
   "id": "449743a8",
   "metadata": {},
   "outputs": [
    {
     "data": {
      "text/plain": [
       "-1"
      ]
     },
     "execution_count": 352,
     "metadata": {},
     "output_type": "execute_result"
    }
   ],
   "source": [
    " recherche(1, [2, 3, 4])"
   ]
  },
  {
   "cell_type": "code",
   "execution_count": 353,
   "id": "df9ae236",
   "metadata": {},
   "outputs": [
    {
     "data": {
      "text/plain": [
       "2"
      ]
     },
     "execution_count": 353,
     "metadata": {},
     "output_type": "execute_result"
    }
   ],
   "source": [
    "recherche(1, [10, 12, 1, 56])"
   ]
  },
  {
   "cell_type": "code",
   "execution_count": 354,
   "id": "660faa41",
   "metadata": {},
   "outputs": [
    {
     "data": {
      "text/plain": [
       "0"
      ]
     },
     "execution_count": 354,
     "metadata": {},
     "output_type": "execute_result"
    }
   ],
   "source": [
    "recherche(1, [1, 0, 42, 7])"
   ]
  },
  {
   "cell_type": "code",
   "execution_count": 355,
   "id": "cca02823",
   "metadata": {},
   "outputs": [
    {
     "data": {
      "text/plain": [
       "2"
      ]
     },
     "execution_count": 355,
     "metadata": {},
     "output_type": "execute_result"
    }
   ],
   "source": [
    "recherche(1, [1, 50, 1])"
   ]
  },
  {
   "cell_type": "code",
   "execution_count": 356,
   "id": "2e26c789",
   "metadata": {},
   "outputs": [
    {
     "data": {
      "text/plain": [
       "5"
      ]
     },
     "execution_count": 356,
     "metadata": {},
     "output_type": "execute_result"
    }
   ],
   "source": [
    "recherche(1, [8, 1, 10, 1, 7, 1, 8])"
   ]
  },
  {
   "cell_type": "markdown",
   "id": "067df82d",
   "metadata": {},
   "source": [
    "### Remarque\n",
    "Puisqu'on recherche la dernière occurence, j'ai pris l'option de parcourir la liste `tab`du dernier au premier élément et de retourner la première occurence trouvée;"
   ]
  },
  {
   "cell_type": "markdown",
   "id": "720c9c4e",
   "metadata": {},
   "source": [
    "## EXERCICE 2 (4 points)\n",
    "On définit une classe gérant une adresse IPv4.\n",
    "\n",
    "On rappelle qu’une adresse IPv4 est une adresse de longueur 4 octets, notée en décimale à point, en séparant chacun des octets par un point. On considère un réseau privé avec une plage d’adresses IP de 192.168.0.0 à 192.168.0.255.\n",
    "\n",
    "On considère que les adresses IP saisies sont valides.\n",
    "\n",
    "Les adresses IP 192.168.0.0 et 192.168.0.255 sont des adresses réservées.\n",
    "\n",
    "Le code ci-dessous implémente la classe AdresseIP."
   ]
  },
  {
   "cell_type": "markdown",
   "id": "72df4a73",
   "metadata": {},
   "source": [
    "```python\n",
    "class AdresseIP:\n",
    "    def __init__(self, adresse):\n",
    "        self.adresse = ...\n",
    "\n",
    "    def liste_octet(self):\n",
    "        \"\"\"renvoie une liste de nombres entiers,\n",
    "        la liste des octets de l'adresse IP\"\"\"\n",
    "        return [int(i) for i in self.adresse.split(\".\")]\n",
    "\n",
    "    def est_reservee(self):\n",
    "        \"\"\"renvoie True si l'adresse IP est une adresse\n",
    "        réservée, False sinon\"\"\"\n",
    "        return ... or ...\n",
    "\n",
    "    def adresse_suivante(self):\n",
    "        \"\"\"renvoie un objet de AdresseIP avec l'adresse\n",
    "        IP qui suit l’adresse self\n",
    "        si elle existe et False sinon\"\"\"\n",
    "        if ... < 254:\n",
    "            octet_nouveau = ... + ...\n",
    "            return AdresseIP('192.168.0.' + ...)\n",
    "        else:\n",
    "            return False\n",
    "```"
   ]
  },
  {
   "cell_type": "markdown",
   "id": "80fce95a",
   "metadata": {},
   "source": [
    "Compléter le code ci-dessus et instancier trois objets : adresse1, adresse2, adresse3 avec respectivement les arguments suivants : '192.168.0.1', '192.168.0.2', '192.168.0.0'\n",
    "\n",
    "Vérifier que :\n",
    "\n",
    "```python\n",
    ">>> adresse1.est_reservee()\n",
    "False\n",
    ">>> adresse3.est_reservee()\n",
    "True\n",
    ">>> adresse2.adresse_suivante().adresse\n",
    "'192.168.0.3'\n",
    "```"
   ]
  },
  {
   "cell_type": "markdown",
   "id": "30a29105",
   "metadata": {},
   "source": [
    "## Solution"
   ]
  },
  {
   "cell_type": "code",
   "execution_count": 357,
   "id": "6b8998dd",
   "metadata": {},
   "outputs": [],
   "source": [
    "class AdresseIP:\n",
    "    def __init__(self, adresse):\n",
    "        self.adresse = adresse\n",
    "\n",
    "    def liste_octet(self):\n",
    "        \"\"\"renvoie une liste de nombres entiers,\n",
    "        la liste des octets de l'adresse IP\"\"\"\n",
    "        return [int(i) for i in self.adresse.split(\".\")]\n",
    "\n",
    "    def est_reservee(self):\n",
    "        \"\"\"renvoie True si l'adresse IP est une adresse\n",
    "        réservée, False sinon\"\"\"\n",
    "        return self.liste_octet()[-1] == 0 or self.liste_octet()[-1] == 255\n",
    "\n",
    "    def adresse_suivante(self):\n",
    "        \"\"\"renvoie un objet de AdresseIP avec l'adresse\n",
    "        IP qui suit l’adresse self\n",
    "        si elle existe et False sinon\"\"\"\n",
    "        if self.liste_octet()[-1] < 254:\n",
    "            octet_nouveau = self.liste_octet()[-1] + 1\n",
    "            return AdresseIP('192.168.0.' + str(octet_nouveau))\n",
    "        else:\n",
    "            return False"
   ]
  },
  {
   "cell_type": "markdown",
   "id": "598e210b",
   "metadata": {},
   "source": [
    "## Tests"
   ]
  },
  {
   "cell_type": "code",
   "execution_count": 358,
   "id": "3e548be6",
   "metadata": {},
   "outputs": [],
   "source": [
    "adresse1 = AdresseIP('192.168.0.1')\n",
    "adresse2 = AdresseIP('192.168.0.2')\n",
    "adresse3 = AdresseIP('192.168.0.0')"
   ]
  },
  {
   "cell_type": "code",
   "execution_count": 359,
   "id": "e2729c9a",
   "metadata": {},
   "outputs": [
    {
     "data": {
      "text/plain": [
       "False"
      ]
     },
     "execution_count": 359,
     "metadata": {},
     "output_type": "execute_result"
    }
   ],
   "source": [
    "adresse1.est_reservee()"
   ]
  },
  {
   "cell_type": "code",
   "execution_count": 360,
   "id": "10efb6ec",
   "metadata": {},
   "outputs": [
    {
     "data": {
      "text/plain": [
       "True"
      ]
     },
     "execution_count": 360,
     "metadata": {},
     "output_type": "execute_result"
    }
   ],
   "source": [
    "adresse3.est_reservee()"
   ]
  },
  {
   "cell_type": "code",
   "execution_count": 361,
   "id": "3c27f899",
   "metadata": {},
   "outputs": [
    {
     "data": {
      "text/plain": [
       "'192.168.0.3'"
      ]
     },
     "execution_count": 361,
     "metadata": {},
     "output_type": "execute_result"
    }
   ],
   "source": [
    "adresse2.adresse_suivante().adresse"
   ]
  },
  {
   "cell_type": "markdown",
   "id": "44e4ef2c",
   "metadata": {},
   "source": [
    "---"
   ]
  },
  {
   "cell_type": "markdown",
   "id": "1d3228b5",
   "metadata": {},
   "source": [
    "# Sujet n°39"
   ]
  },
  {
   "cell_type": "markdown",
   "id": "daf11355",
   "metadata": {},
   "source": [
    "## EXERCICE 1 (4 points)\n",
    "On s’intéresse à la suite d’entiers définie par :\n",
    "+ les deux premiers termes sont égaux à 1,\n",
    "+ ensuite, chaque terme est obtenu en faisant la somme des deux termes qui le précèdent.\n",
    "\n",
    "En mathématiques, on le formule ainsi :\n",
    "$u_1 = 1$, $u_2 = 1$ et, pour tout entier naturel non nul $n$, $u_{n+2} = u_{n+1} + u_n$.\n",
    "\n",
    "Cette suite est connue sous le nom de suite de Fibonacci.\n",
    "\n",
    "Écrire en Python une fonction `fibonacci` qui prend en paramètre un entier `n `supposé strictement positif et qui renvoie le terme d’indice `n` de cette suite.\n",
    "\n",
    "### Exemples :\n",
    "```python\n",
    ">>> fibonacci(1)\n",
    "1\n",
    ">>> fibonacci(2)\n",
    "1\n",
    ">>> fibonacci(25)\n",
    "75025\n",
    ">>> fibonacci(45)\n",
    "1134903170\n",
    "````"
   ]
  },
  {
   "cell_type": "markdown",
   "id": "d2082a1d",
   "metadata": {},
   "source": [
    "## Solution\n",
    "\n",
    "Cet eercice est un classique en mathématique; Voici donc directement le programme:"
   ]
  },
  {
   "cell_type": "code",
   "execution_count": 362,
   "id": "8e1e0975",
   "metadata": {},
   "outputs": [],
   "source": [
    "def fibonacci(n):\n",
    "    \"\"\"\n",
    "    Cette fonction calcule le n-ième terme de la siute de Fibonacci.\n",
    "    \"\"\"\n",
    "    \n",
    "    # On réécrit la relation de récurrence : u_n = u_{n-1} + u_{n-2}\n",
    "    \n",
    "    assert isinstance(n,int), \"n n'est pas un entier.\"\n",
    "    assert n > 0, \"n n'est pas strictement positif.\"\n",
    "    \n",
    "    if n == 1 or n == 2:\n",
    "        return 1\n",
    "    \n",
    "    ua = 1  # terme u_{n-2}\n",
    "    ub = 1  # terme u_{n-1}\n",
    "    i = 3\n",
    "    while i <= n:\n",
    "        u = ub + ua # terme u_n\n",
    "        ua = ub     # Pour la prochaine itération ub devient l'avant dernier terme (u_{n-2})\n",
    "        ub = u      # Pour la prochaine itération u devient le dernier terme (u_{n-1})\n",
    "        i += 1\n",
    "        \n",
    "    return u"
   ]
  },
  {
   "cell_type": "markdown",
   "id": "27546f05",
   "metadata": {},
   "source": [
    "## Tests"
   ]
  },
  {
   "cell_type": "code",
   "execution_count": 363,
   "id": "bda84f63",
   "metadata": {},
   "outputs": [
    {
     "data": {
      "text/plain": [
       "1"
      ]
     },
     "execution_count": 363,
     "metadata": {},
     "output_type": "execute_result"
    }
   ],
   "source": [
    "fibonacci(1)"
   ]
  },
  {
   "cell_type": "code",
   "execution_count": 364,
   "id": "a3c59ec6",
   "metadata": {},
   "outputs": [
    {
     "data": {
      "text/plain": [
       "1"
      ]
     },
     "execution_count": 364,
     "metadata": {},
     "output_type": "execute_result"
    }
   ],
   "source": [
    "fibonacci(2)"
   ]
  },
  {
   "cell_type": "code",
   "execution_count": 365,
   "id": "e9eaea41",
   "metadata": {},
   "outputs": [
    {
     "data": {
      "text/plain": [
       "75025"
      ]
     },
     "execution_count": 365,
     "metadata": {},
     "output_type": "execute_result"
    }
   ],
   "source": [
    "fibonacci(25)"
   ]
  },
  {
   "cell_type": "code",
   "execution_count": 366,
   "id": "1b2e334b",
   "metadata": {},
   "outputs": [
    {
     "data": {
      "text/plain": [
       "1134903170"
      ]
     },
     "execution_count": 366,
     "metadata": {},
     "output_type": "execute_result"
    }
   ],
   "source": [
    "fibonacci(45)"
   ]
  },
  {
   "cell_type": "markdown",
   "id": "173cd64a",
   "metadata": {},
   "source": [
    "## EXERCICE 2 (4 points)\n",
    "On considère la fonction `pantheon` prenant en paramètres `eleves` et `notes` deux tableaux de même longueur, le premier contenant le nom des élèves et le second, des entiers positifs désignant leur note à un contrôle de sorte que `eleves[i]` a obtenu la note `notes[i]`.\n",
    "\n",
    "Cette fonction renvoie le couple constitué de la note maximale attribuée et des noms des élèves ayant obtenu cette note regroupés dans un tableau.\n",
    "\n",
    "Ainsi, l’instruction `pantheon(['a', 'b', 'c', 'd'], [15,18,12,18])` renvoie le couple `(18, ['b', 'd'])̀.\n",
    "\n",
    "```python\n",
    "def pantheon(eleves, notes):\n",
    "    note_maxi = 0\n",
    "    meilleurs_eleves =...\n",
    "    for i in range(...):\n",
    "    if notes[i] == ...:\n",
    "        meilleurs_eleves.append(...)\n",
    "    elif notes[i] > note_maxi:\n",
    "        note_maxi = ...\n",
    "        meilleurs_eleves = [...]\n",
    "    return (note_maxi, meilleurs_eleves)\n",
    "```\n",
    "\n",
    "Compléter ce code.\n",
    "\n",
    "#### Exemples :\n",
    "```python\n",
    ">>> eleves_nsi = ['a','b','c','d','e','f','g','h','i','j']\n",
    ">>> notes_nsi = [30, 40, 80, 60, 58, 80, 75, 80, 60, 24]\n",
    ">>> pantheon(eleves_nsi, notes_nsi)\n",
    "(80, ['c', 'f', 'h'])\n",
    ">>> pantheon([],[])\n",
    "(0, [])\n",
    "```"
   ]
  },
  {
   "cell_type": "markdown",
   "id": "0854aa13",
   "metadata": {},
   "source": [
    "## Solution"
   ]
  },
  {
   "cell_type": "code",
   "execution_count": 367,
   "id": "e854eff2",
   "metadata": {},
   "outputs": [],
   "source": [
    "def pantheon(eleves, notes):\n",
    "    note_maxi = 0\n",
    "    meilleurs_eleves = []\n",
    "    for i in range(len(notes)):\n",
    "        if notes[i] == note_maxi:\n",
    "            meilleurs_eleves.append(eleves[i])\n",
    "        elif notes[i] > note_maxi:\n",
    "            note_maxi = notes[i]\n",
    "            meilleurs_eleves = [eleves[i]]\n",
    "    return (note_maxi, meilleurs_eleves)"
   ]
  },
  {
   "cell_type": "markdown",
   "id": "72640841",
   "metadata": {},
   "source": [
    "## Tests "
   ]
  },
  {
   "cell_type": "code",
   "execution_count": 368,
   "id": "5ae431cd",
   "metadata": {},
   "outputs": [],
   "source": [
    "eleves_nsi = ['a','b','c','d','e','f','g','h','i','j']"
   ]
  },
  {
   "cell_type": "code",
   "execution_count": 369,
   "id": "4ef12dfa",
   "metadata": {},
   "outputs": [],
   "source": [
    "notes_nsi = [30, 40, 80, 60, 58, 80, 75, 80, 60, 24]"
   ]
  },
  {
   "cell_type": "code",
   "execution_count": 370,
   "id": "075cee18",
   "metadata": {},
   "outputs": [
    {
     "data": {
      "text/plain": [
       "(80, ['c', 'f', 'h'])"
      ]
     },
     "execution_count": 370,
     "metadata": {},
     "output_type": "execute_result"
    }
   ],
   "source": [
    "pantheon(eleves_nsi, notes_nsi)"
   ]
  },
  {
   "cell_type": "code",
   "execution_count": 371,
   "id": "0dbddc40",
   "metadata": {},
   "outputs": [
    {
     "data": {
      "text/plain": [
       "(0, [])"
      ]
     },
     "execution_count": 371,
     "metadata": {},
     "output_type": "execute_result"
    }
   ],
   "source": [
    "pantheon([],[])"
   ]
  },
  {
   "cell_type": "markdown",
   "id": "60a3cabe",
   "metadata": {},
   "source": [
    "---"
   ]
  },
  {
   "cell_type": "markdown",
   "id": "e6f0d0eb",
   "metadata": {},
   "source": [
    "# Sujet 44"
   ]
  },
  {
   "cell_type": "markdown",
   "id": "36ce567b",
   "metadata": {},
   "source": [
    "## EXERCICE 1 (4 points)\n",
    "Programmer une fonction `renverse`, prenant en paramètre une chaîne de caractères non vide, `mot`, et qui renvoie une chaîne de caractères en inversant ceux de la chaîne `mot`.\n",
    "\n",
    "### Exemple :\n",
    "```python\n",
    ">>> renverse(\"informatique\")\n",
    "\"euqitamrofni\"\n",
    "```"
   ]
  },
  {
   "cell_type": "markdown",
   "id": "9c297514",
   "metadata": {},
   "source": [
    "## Solution"
   ]
  },
  {
   "cell_type": "code",
   "execution_count": 372,
   "id": "dcfbdf74",
   "metadata": {},
   "outputs": [],
   "source": [
    "def renverse(mot):\n",
    "    tom = \"\"\n",
    "    for caractere in mot:\n",
    "        tom = caractere + tom\n",
    "        \n",
    "    return tom"
   ]
  },
  {
   "cell_type": "markdown",
   "id": "6b729542",
   "metadata": {},
   "source": [
    "## Test"
   ]
  },
  {
   "cell_type": "code",
   "execution_count": 373,
   "id": "e10f1365",
   "metadata": {},
   "outputs": [
    {
     "data": {
      "text/plain": [
       "'euqitamrofni'"
      ]
     },
     "execution_count": 373,
     "metadata": {},
     "output_type": "execute_result"
    }
   ],
   "source": [
    "renverse(\"informatique\")"
   ]
  },
  {
   "cell_type": "markdown",
   "id": "1448f21c",
   "metadata": {},
   "source": [
    "## EXERCICE 2 (4 points)\n",
    "Un nombre premier est un nombre entier naturel qui admet exactement deux diviseurs distincts entiers et positifs : 1 et lui-même.\n",
    "\n",
    "Le crible d’Ératosthène permet de déterminer les nombres premiers plus petits qu’un certain nombre entier `n` fixé, strictement supérieur à 1.\n",
    "\n",
    "On considère pour cela un tableau `tab` de `n` booléens, initialement tous égaux à `True`, sauf `tab[0]` et `tab[1]` qui valent `False`, 0 et 1 n’étant pas des nombres premiers.\n",
    "\n",
    "On parcourt alors ce tableau de gauche à droite.\n",
    "\n",
    "Pour chaque indice `i` :\n",
    "+ si `tab[i]` vaut `True` : le nombre `i` est premier et on donne la valeur `False` à toutes les cases du tableau dont l’indice est un multiple de `i`, à partir de `2*i` (c’est-à-dire `2*i`, `3*i` ...).\n",
    "+ si `tab[i]` vaut `False` : le nombre `i` n’est pas premier et on n’effectue aucun changement sur le tableau.\n",
    "\n",
    "On dispose de la fonction `crible`, incomplète et donnée ci-dessous, prenant en paramètre un entier `n` strictement supérieur à 1 et renvoyant un tableau contenant tous les nombres premiers plus petits que `n`."
   ]
  },
  {
   "cell_type": "markdown",
   "id": "33f84626",
   "metadata": {},
   "source": [
    "```python\n",
    "def crible(n):\n",
    "    \"\"\"\n",
    "    Renvoie un tableau contenant tous les nombres premiers plus petits\n",
    "    que n\n",
    "    \"\"\"\n",
    "    premiers = []\n",
    "    tab = [True] * n\n",
    "    tab[0], tab[1] = False, False\n",
    "\n",
    "    for i in range(..., n):\n",
    "        if tab[i] == ...:\n",
    "            premiers.append(...);\n",
    "            for multiple in range(2 * i, n, ...):\n",
    "                tab[multiple] = ...\n",
    "    return premiers\n",
    "\n",
    "assert crible(40) == [2, 3, 5, 7, 11, 13, 17, 19, 23, 29, 31, 37]\n",
    "```\n",
    "\n",
    "Compléter le code de cette fonction."
   ]
  },
  {
   "cell_type": "markdown",
   "id": "2e8c9465",
   "metadata": {},
   "source": [
    "## Solution"
   ]
  },
  {
   "cell_type": "code",
   "execution_count": 374,
   "id": "9239682f",
   "metadata": {},
   "outputs": [],
   "source": [
    "def crible(n):\n",
    "    \"\"\"\n",
    "    Renvoie un tableau contenant tous les nombres premiers plus petits\n",
    "    que n\n",
    "    \"\"\"\n",
    "    premiers = []\n",
    "    tab = [True] * n\n",
    "    tab[0], tab[1] = False, False\n",
    "\n",
    "    for i in range(0, n):\n",
    "        if tab[i] == True:\n",
    "            premiers.append(i)\n",
    "            for multiple in range(2 * i, n, i):\n",
    "                tab[multiple] = False\n",
    "    return premiers\n",
    "\n",
    "assert crible(40) == [2, 3, 5, 7, 11, 13, 17, 19, 23, 29, 31, 37]"
   ]
  },
  {
   "cell_type": "markdown",
   "id": "98e37927",
   "metadata": {},
   "source": [
    "## Test"
   ]
  },
  {
   "cell_type": "code",
   "execution_count": 375,
   "id": "a69031f9",
   "metadata": {},
   "outputs": [],
   "source": [
    "assert crible(40) == [2, 3, 5, 7, 11, 13, 17, 19, 23, 29, 31, 37]"
   ]
  },
  {
   "cell_type": "code",
   "execution_count": 376,
   "id": "11848c57",
   "metadata": {},
   "outputs": [
    {
     "data": {
      "text/plain": [
       "[2, 3, 5, 7, 11, 13, 17, 19, 23, 29, 31, 37]"
      ]
     },
     "execution_count": 376,
     "metadata": {},
     "output_type": "execute_result"
    }
   ],
   "source": [
    "crible(40)"
   ]
  },
  {
   "cell_type": "markdown",
   "id": "eb653ef4",
   "metadata": {},
   "source": [
    "---"
   ]
  },
  {
   "cell_type": "markdown",
   "id": "2580f477",
   "metadata": {},
   "source": [
    "# Sujet 45"
   ]
  },
  {
   "cell_type": "markdown",
   "id": "93209795",
   "metadata": {},
   "source": [
    "## EXERCICE 1 (4 points)\n",
    "On veut trier par ordre croissant les notes d’une évaluation qui sont des nombres entiers compris entre 0 et 10 (inclus).\n",
    "\n",
    "Ces notes sont contenues dans une liste `notes_eval`.\n",
    "\n",
    "Écrire une fonction `rangement_valeurs` prenant en paramètre la liste `notes_eval` et renvoyant une liste de longueur 11 telle que la valeur de cette liste à chaque rang est égale au nombre de notes valant ce rang. Ainsi le terme de rang 0 indique le nombre de note 0, le terme de rang 1 le nombre de note 1, etc.\n",
    "\n",
    "Écrire ensuite une fonction `notes_triees` prenant en paramètre la liste des effectifs des notes et renvoyant une liste contenant la liste, triée dans l’ordre croissant, des notes des élèves.\n",
    "\n",
    "### Exemple :\n",
    "```python\n",
    ">>> notes_eval\n",
    "[2, 0, 5, 9, 6, 9, 10, 5, 7, 9, 9, 5, 0, 9, 6, 5, 4]\n",
    ">>> effectifs_notes = rangement_valeurs(notes_eval)\n",
    ">>> effectifs_notes\n",
    "[2, 0, 1, 0, 1, 4, 2, 1, 0, 5, 1]\n",
    ">>> notes_triees(effectifs_notes)\n",
    "[0, 0, 2, 4, 5, 5, 5, 5, 6, 6, 7, 9, 9, 9, 9, 9, 10]\n",
    "```"
   ]
  },
  {
   "cell_type": "markdown",
   "id": "21065c2c",
   "metadata": {},
   "source": [
    "## Solution"
   ]
  },
  {
   "cell_type": "code",
   "execution_count": 377,
   "id": "8f51ca97",
   "metadata": {},
   "outputs": [],
   "source": [
    "def rangement_valeurs(notes_eval):\n",
    "    effectifs_notes = [0]*11  # On crée une liste de 11 zéros.\n",
    "    for note in notes_eval:\n",
    "        effectifs_notes[note] = effectifs_notes[note] + 1  # Pour chaque note, on incrémente son effectif\n",
    "    return effectifs_notes\n",
    "\n",
    "def notes_triees(effectifs_notes):\n",
    "    notesTriees = []  \n",
    "    for note, effectif in enumerate(effectifs_notes):  # L'index est la note, la valeur l'effectifs\n",
    "        notesTriees = notesTriees + [note]*effectif  # On concatère la liste des notes répétées effectif fois.\n",
    "    return notesTriees        "
   ]
  },
  {
   "cell_type": "markdown",
   "id": "b519f198",
   "metadata": {},
   "source": [
    "## Tests"
   ]
  },
  {
   "cell_type": "code",
   "execution_count": 378,
   "id": "3fe6d857",
   "metadata": {},
   "outputs": [],
   "source": [
    "notes_eval = [2, 0, 5, 9, 6, 9, 10, 5, 7, 9, 9, 5, 0, 9, 6, 5, 4]"
   ]
  },
  {
   "cell_type": "code",
   "execution_count": 379,
   "id": "59a82c2d",
   "metadata": {},
   "outputs": [],
   "source": [
    "effectifs_notes = rangement_valeurs(notes_eval)"
   ]
  },
  {
   "cell_type": "code",
   "execution_count": 380,
   "id": "2e7234af",
   "metadata": {},
   "outputs": [
    {
     "data": {
      "text/plain": [
       "[2, 0, 1, 0, 1, 4, 2, 1, 0, 5, 1]"
      ]
     },
     "execution_count": 380,
     "metadata": {},
     "output_type": "execute_result"
    }
   ],
   "source": [
    "effectifs_notes"
   ]
  },
  {
   "cell_type": "code",
   "execution_count": 381,
   "id": "f92cf0b4",
   "metadata": {},
   "outputs": [
    {
     "data": {
      "text/plain": [
       "[0, 0, 2, 4, 5, 5, 5, 5, 6, 6, 7, 9, 9, 9, 9, 9, 10]"
      ]
     },
     "execution_count": 381,
     "metadata": {},
     "output_type": "execute_result"
    }
   ],
   "source": [
    "notes_triees(effectifs_notes)"
   ]
  },
  {
   "cell_type": "markdown",
   "id": "3c245aec",
   "metadata": {},
   "source": [
    "## EXERCICE 2 (4 points)\n",
    "L’objectif de cet exercice est d’écrire deux fonctions récursives `dec_to_bin` et `bin_to_dec` assurant respectivement la conversion de l’écriture décimale d’un nombre entier vers son écriture en binaire et, réciproquement, la conversion de l’écriture en binaire d’un nombre vers son écriture décimale.\n",
    "\n",
    "Dans cet exercice, on s’interdit l’usage des fonctions Python `bin` et `int`.\n",
    "\n",
    "On rappelle sur l’exemple ci-dessous une façon d’obtenir l’écriture en binaire du nombre 25 :\n",
    "\n",
    "\\begin{align}\n",
    "25 &= 1 + 2 × 12\\\\\n",
    "   &= 1 + 2 ( 0 + 2 × 6)\\\\\n",
    "   &= 1 + 2 ×( 0 + 2 ×( 0 + 2 × 3)\\\\\n",
    "   &= 1 + 2 ×( 0 + 2 ×( 0 + 2 × ( 1 + 2 × 1)))\\\\\n",
    "   &= 1 × 2^0 + 0 × 2^1 + 0 × 2^2 + 1 × 2^3 + 1 × 2^4\\\\\n",
    "\\end{align}\n",
    "\n",
    "L’écriture en binaire de 25 est donc 11001.\n",
    "\n",
    "0n rappelle également que :\n",
    "+ `a // 2` renvoie le quotient de la division euclidienne de `a` par 2.\n",
    "+ `a % 2` renvoie le reste dans la division euclidienne de `a` par 2.\n",
    "\n",
    "On indique enfin qu’en Python si `mot = \"informatique\"` alors :\n",
    "+ `mot[-1]` renvoie `'e'`, c’est-à-dire le dernier caractère de la chaîne de caractères `mot`.\n",
    "+ `mot[:-1]` renvoie `'informatiqu'` , c’est-à-dire l’ensemble de la chaîne de caractères mot privée de son dernier caractère.\n",
    "\n",
    "Compléter, puis tester, les codes de deux fonctions ci-après.\n",
    "\n",
    "On précise que la fonction récursive `dec_to_bin` prend en paramètre un nombre entier et renvoie une chaîne de caractères contenant l’écriture en binaire du nombre passé en paramètre."
   ]
  },
  {
   "cell_type": "markdown",
   "id": "c75450e6",
   "metadata": {},
   "source": [
    "### Exemple :\n",
    "\n",
    "```python\n",
    ">>> dec_to_bin(25)\n",
    "'11001'\n",
    "```\n",
    "\n",
    "La fonction récursive `bin_to_dec` prend en paramètre une chaîne de caractères représentant l’écriture d’un nombre en binaire et renvoie l’écriture décimale de ce nombre.\n",
    "\n",
    "```python\n",
    ">>> bin_to_dec('101010')\n",
    "42\n",
    "```"
   ]
  },
  {
   "cell_type": "markdown",
   "id": "f9de509c",
   "metadata": {},
   "source": [
    "```python\n",
    "def dec_to_bin (nb_dec):\n",
    "    q, r = nb_dec // 2, nb_dec % 2\n",
    "    if q == ...:\n",
    "        return str(r)\n",
    "    else:\n",
    "        return dec_to_bin(...) + ...\n",
    "    \n",
    "def bin_to_dec(nb_bin):\n",
    "    if nb_bin == '0':\n",
    "        return 0\n",
    "    elif ...:\n",
    "        return 1\n",
    "    else:\n",
    "        if nb_bin[-1] == '0':\n",
    "            bit_droit = 0\n",
    "        else:\n",
    "            bit_droit = ...\n",
    "        return ... * bin_to_dec(nb_bin[:-1]) + ...\n",
    "```"
   ]
  },
  {
   "cell_type": "markdown",
   "id": "bec0cd0b",
   "metadata": {},
   "source": [
    "## Solution"
   ]
  },
  {
   "cell_type": "code",
   "execution_count": 382,
   "id": "5aa62a0c",
   "metadata": {},
   "outputs": [],
   "source": [
    "def dec_to_bin (nb_dec):\n",
    "    q, r = nb_dec // 2, nb_dec % 2\n",
    "    if q == 0:\n",
    "        return str(r)\n",
    "    else:\n",
    "        return dec_to_bin(q) + str(r)\n",
    "\n",
    "def bin_to_dec(nb_bin):\n",
    "    if nb_bin == '0':\n",
    "        return 0\n",
    "    elif nb_bin == '1':\n",
    "        return 1\n",
    "    else:\n",
    "        if nb_bin[-1] == '0':\n",
    "            bit_droit = 0\n",
    "        else:\n",
    "            bit_droit = 1\n",
    "        return 2 * bin_to_dec(nb_bin[:-1]) + bit_droit"
   ]
  },
  {
   "cell_type": "markdown",
   "id": "7c115272",
   "metadata": {},
   "source": [
    "## Tests"
   ]
  },
  {
   "cell_type": "code",
   "execution_count": 383,
   "id": "32728fbd",
   "metadata": {},
   "outputs": [
    {
     "data": {
      "text/plain": [
       "'11001'"
      ]
     },
     "execution_count": 383,
     "metadata": {},
     "output_type": "execute_result"
    }
   ],
   "source": [
    "dec_to_bin(25)"
   ]
  },
  {
   "cell_type": "code",
   "execution_count": 384,
   "id": "bd2daef4",
   "metadata": {},
   "outputs": [
    {
     "data": {
      "text/plain": [
       "42"
      ]
     },
     "execution_count": 384,
     "metadata": {},
     "output_type": "execute_result"
    }
   ],
   "source": [
    "bin_to_dec('101010')"
   ]
  }
 ],
 "metadata": {
  "kernelspec": {
   "display_name": "Python 3 (ipykernel)",
   "language": "python",
   "name": "python3"
  },
  "language_info": {
   "codemirror_mode": {
    "name": "ipython",
    "version": 3
   },
   "file_extension": ".py",
   "mimetype": "text/x-python",
   "name": "python",
   "nbconvert_exporter": "python",
   "pygments_lexer": "ipython3",
   "version": "3.10.6"
  }
 },
 "nbformat": 4,
 "nbformat_minor": 5
}
